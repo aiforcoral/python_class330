{
 "cells": [
  {
   "cell_type": "code",
   "execution_count": 1,
   "metadata": {},
   "outputs": [],
   "source": [
    "a = open('class330.txt','x')\n",
    "a.close()"
   ]
  },
  {
   "cell_type": "code",
   "execution_count": 4,
   "metadata": {},
   "outputs": [
    {
     "name": "stdout",
     "output_type": "stream",
     "text": [
      "1.Hello World\n",
      "2.Hello World\n",
      "3.Hello World\n",
      "4.Hello World\n",
      "5.Hello World\n",
      "6.Hello World\n",
      "7.Hello World\n"
     ]
    }
   ],
   "source": [
    "a = open('class330.txt','r')\n",
    "print(a.read())\n",
    "a.close()"
   ]
  },
  {
   "cell_type": "code",
   "execution_count": 5,
   "metadata": {},
   "outputs": [
    {
     "name": "stdout",
     "output_type": "stream",
     "text": [
      "<class 'str'> 1.Hello World\n",
      "2.Hello World\n",
      "3.Hello World\n",
      "4.Hello World\n",
      "5.Hello World\n",
      "6.Hello World\n",
      "7.Hello World\n"
     ]
    }
   ],
   "source": [
    "a = open('class330.txt','r')\n",
    "b = a.read()\n",
    "print(type(b),b)\n",
    "a.close()"
   ]
  },
  {
   "cell_type": "code",
   "execution_count": 6,
   "metadata": {},
   "outputs": [
    {
     "name": "stdout",
     "output_type": "stream",
     "text": [
      "1.Hello Wo\n"
     ]
    }
   ],
   "source": [
    "a = open('class330.txt','r')\n",
    "b = a.read(10)\n",
    "print(b)\n",
    "a.close()"
   ]
  },
  {
   "cell_type": "code",
   "execution_count": 10,
   "metadata": {},
   "outputs": [
    {
     "name": "stdout",
     "output_type": "stream",
     "text": [
      "1.Hello World\n",
      "\n"
     ]
    }
   ],
   "source": [
    "a = open('class330.txt','r')\n",
    "b = a.readline()\n",
    "print(b)\n",
    "a.close()"
   ]
  },
  {
   "cell_type": "code",
   "execution_count": 12,
   "metadata": {},
   "outputs": [],
   "source": [
    "a = open('class330.txt','w')\n",
    "b = a.write('Hello World')\n",
    "a.close()"
   ]
  },
  {
   "cell_type": "code",
   "execution_count": 1,
   "metadata": {},
   "outputs": [
    {
     "name": "stdout",
     "output_type": "stream",
     "text": [
      "Enter no of rows=3\n",
      "Enter name =ram\n",
      "Enter age = 78\n",
      "Enter addess = Kathmandu\n",
      "Enter name =Shyam\n",
      "Enter age = 78\n",
      "Enter addess = Bara\n",
      "Enter name =Hari\n",
      "Enter age = 78\n",
      "Enter addess = Bara\n"
     ]
    }
   ],
   "source": [
    "try:\n",
    "    a = open('class330.txt','w')\n",
    "    n = int(input(\"Enter no of rows=\"))\n",
    "    for i in range(n):\n",
    "        name = input(\"Enter name =\")\n",
    "        age = int(input(\"Enter age = \"))\n",
    "        add = input(\"Enter addess = \")\n",
    "        info = f\"{name} {age} {add}\\n\"\n",
    "        b = a.write(info)\n",
    "    a.close()\n",
    "except:\n",
    "    print(\"Somme error occured\")"
   ]
  },
  {
   "cell_type": "code",
   "execution_count": 16,
   "metadata": {},
   "outputs": [
    {
     "name": "stdout",
     "output_type": "stream",
     "text": [
      "Shyam 67 Bara\n",
      "Ram 78 Bara\n",
      "\n"
     ]
    }
   ],
   "source": [
    "a = open(\"class330.txt\",'r')\n",
    "print(a.read())\n",
    "a.close()"
   ]
  },
  {
   "cell_type": "code",
   "execution_count": 23,
   "metadata": {},
   "outputs": [
    {
     "name": "stdout",
     "output_type": "stream",
     "text": [
      "Shyam 67 Bara\n",
      "\n"
     ]
    }
   ],
   "source": [
    "a = open('class330.txt','r')\n",
    "x = 0\n",
    "while x<=2:\n",
    "    if x==2:\n",
    "        print(a.readline())\n",
    "    x=x+1\n",
    "a.close()"
   ]
  },
  {
   "cell_type": "code",
   "execution_count": 35,
   "metadata": {},
   "outputs": [
    {
     "name": "stdout",
     "output_type": "stream",
     "text": [
      "['Shyam 67 Bara', 'Ram 78 Bara', 'Hari 67 Kathmandu']\n"
     ]
    }
   ],
   "source": [
    "a = open('class330.txt','r')\n",
    "b = a.read()\n",
    "c = b.split('\\n')\n",
    "print(c[0:-1])\n",
    "a.close()"
   ]
  },
  {
   "cell_type": "code",
   "execution_count": 36,
   "metadata": {},
   "outputs": [],
   "source": [
    "info = c[0:-1]"
   ]
  },
  {
   "cell_type": "code",
   "execution_count": 37,
   "metadata": {},
   "outputs": [
    {
     "data": {
      "text/plain": [
       "['Shyam 67 Bara', 'Ram 78 Bara', 'Hari 67 Kathmandu']"
      ]
     },
     "execution_count": 37,
     "metadata": {},
     "output_type": "execute_result"
    }
   ],
   "source": [
    "info"
   ]
  },
  {
   "cell_type": "code",
   "execution_count": 41,
   "metadata": {},
   "outputs": [
    {
     "name": "stdout",
     "output_type": "stream",
     "text": [
      "['Shyam', '67', 'Bara']\n",
      "['Ram', '78', 'Bara']\n",
      "['Hari', '67', 'Kathmandu']\n",
      "[['Shyam', '67', 'Bara'], ['Ram', '78', 'Bara'], ['Hari', '67', 'Kathmandu']]\n"
     ]
    }
   ],
   "source": [
    "final_output = []\n",
    "n = len(info)\n",
    "for i in range(n):\n",
    "    split_info = info[i].split()\n",
    "    print(split_info)\n",
    "    final_output.append(split_info)\n",
    "    \n",
    "print(final_output)"
   ]
  },
  {
   "cell_type": "code",
   "execution_count": 43,
   "metadata": {},
   "outputs": [
    {
     "name": "stdout",
     "output_type": "stream",
     "text": [
      "Shyam 67 Bara\n",
      "Hari 67 Kathmandu\n"
     ]
    }
   ],
   "source": [
    "a = open('class330.txt','r')\n",
    "b = a.read()\n",
    "c = b.split('\\n')\n",
    "for i in range(3):\n",
    "    if '67' in c[i]:\n",
    "        print(c[i])\n",
    "\n",
    "a.close()"
   ]
  },
  {
   "cell_type": "code",
   "execution_count": 47,
   "metadata": {},
   "outputs": [
    {
     "name": "stdout",
     "output_type": "stream",
     "text": [
      "['Shyam', '67', 'Bara']\n",
      "['Hari', '67', 'Kathmandu']\n"
     ]
    }
   ],
   "source": [
    "info = [['Shyam', '67', 'Bara'], ['Ram', '78', 'Bara'], ['Hari', '67', 'Kathmandu']]\n",
    "n = len(info)\n",
    "for i in range(n):\n",
    "    if info[i][1] == '67':\n",
    "        print(info[i])\n",
    "        "
   ]
  },
  {
   "cell_type": "code",
   "execution_count": 48,
   "metadata": {},
   "outputs": [
    {
     "name": "stdout",
     "output_type": "stream",
     "text": [
      "['Ram', '78', 'Bara']\n"
     ]
    }
   ],
   "source": [
    "info = [['Shyam', '67', 'Bara'], ['Ram', '78', 'Bara'], ['Hari', '67', 'Kathmandu']]\n",
    "n = len(info)\n",
    "for i in range(n):\n",
    "    if int(info[i][1]) > int('67'):\n",
    "        print(info[i])\n",
    "        "
   ]
  },
  {
   "cell_type": "code",
   "execution_count": 55,
   "metadata": {},
   "outputs": [
    {
     "name": "stdout",
     "output_type": "stream",
     "text": [
      "Enter which name to update = Ram\n",
      "ENtre name to replace = Ram Prasad\n",
      "Ram Prasad 78 Bara\n",
      "['Shyam 67 Bara', 'Ram Prasad 78 Bara', 'Hari 67 Kathmandu', '']\n"
     ]
    }
   ],
   "source": [
    "a = open('class330.txt','r')\n",
    "b = a.read()\n",
    "c = b.split('\\n')\n",
    "a.close()\n",
    "\n",
    "a = open('class330.txt','w')\n",
    "name = input(\"Enter which name to update = \")\n",
    "replace = input(\"ENtre name to replace = \")\n",
    "for i in range(len(c)):\n",
    "    if name in c[i]:\n",
    "        y = c[i].replace(name,replace)\n",
    "        print(y)\n",
    "        c[i] = y\n",
    "a.close()\n",
    "print(c)"
   ]
  },
  {
   "cell_type": "code",
   "execution_count": 61,
   "metadata": {},
   "outputs": [
    {
     "name": "stdout",
     "output_type": "stream",
     "text": [
      "['Ram 45 bara', 'Shyam 89 Bara', 'Hari 56 Kathmandu', '']\n",
      "Enter which name to update = Ram\n",
      "ENtre name to replace = Ram Prasad\n",
      "Ram Prasad 45 bara\n",
      "Ram Prasad 45 bara\n",
      "Shyam 89 Bara\n",
      "Hari 56 Kathmandu\n",
      "\n"
     ]
    }
   ],
   "source": [
    "a = open('class330.txt','r')\n",
    "b = a.read()\n",
    "c = b.split('\\n')\n",
    "print(c)\n",
    "a.close()\n",
    "\n",
    "a = open('class330.txt','w')\n",
    "name = input(\"Enter which name to update = \")\n",
    "replace = input(\"ENtre name to replace = \")\n",
    "\n",
    "for i in range(len(c)):\n",
    "    if name in c[i]:\n",
    "        x = c[i]\n",
    "        y = c[i].replace(name,replace)\n",
    "        print(y)\n",
    "        z = b.replace(x,y)\n",
    "        print(z)\n",
    "a.write(z)\n",
    "a.close()\n",
    "# print(z)"
   ]
  },
  {
   "cell_type": "code",
   "execution_count": 5,
   "metadata": {},
   "outputs": [
    {
     "name": "stdout",
     "output_type": "stream",
     "text": [
      "['Ram 45 bara']\n",
      "Enter which name to update = Ram\n",
      "ENtre name to replace = Ram Prasad\n",
      "Ram Prasad 45 bara\n",
      "Ram Prasad 45 bara\n",
      "Ram Prasad 45 bara\n"
     ]
    }
   ],
   "source": [
    "a = open('class330.txt','r')\n",
    "b = a.read()\n",
    "c = b.split('\\n')\n",
    "print(c)\n",
    "a.close()\n",
    "\n",
    "a = open('class330.txt','w')\n",
    "name = input(\"Enter which name to update = \")\n",
    "replace = input(\"ENtre name to replace = \")\n",
    "\n",
    "for i in range(len(c)):\n",
    "    if name in c[i]:\n",
    "        x = c[i]\n",
    "        y = c[i].replace(name,replace)\n",
    "        print(y)\n",
    "        z = b.replace(x,y)\n",
    "        print(z)\n",
    "        a.write(y)\n",
    "a.close()\n",
    "print(y)"
   ]
  },
  {
   "cell_type": "code",
   "execution_count": 4,
   "metadata": {},
   "outputs": [
    {
     "name": "stdout",
     "output_type": "stream",
     "text": [
      "['Sham Prasad 45 bara', 'Sham Prasad 45 bara', 'Sham Prasad 45 bara']\n"
     ]
    }
   ],
   "source": [
    "a = open('class330.txt','r')\n",
    "b = a.read()\n",
    "c = b.split('\\n')\n",
    "print(c)\n",
    "a.close()"
   ]
  },
  {
   "cell_type": "code",
   "execution_count": 5,
   "metadata": {},
   "outputs": [
    {
     "name": "stdout",
     "output_type": "stream",
     "text": [
      "Enter which name to update = Sham\n",
      "ENtre name to replace = Ram\n",
      "Ram Prasad 45 bara\n",
      "Ram Prasad 45 bara\n",
      "Ram Prasad 45 bara\n",
      "Ram Prasad 45 bara\n",
      "Ram Prasad 45 bara\n",
      "Ram Prasad 45 bara\n",
      "Ram Prasad 45 bara\n"
     ]
    }
   ],
   "source": [
    "a = open('class330.txt','w')\n",
    "name = input(\"Enter which name to update = \")\n",
    "replace = input(\"ENtre name to replace = \")\n",
    "\n",
    "for i in range(len(c)):\n",
    "    if name in c[i]:\n",
    "        x = c[i]\n",
    "        y = c[i].replace(name,replace)\n",
    "        print(y)\n",
    "        z = b.replace(x,y)\n",
    "        print(z)\n",
    "    a.write(z)\n",
    "    break\n",
    "a.close()\n",
    "print(z)"
   ]
  },
  {
   "cell_type": "code",
   "execution_count": 6,
   "metadata": {},
   "outputs": [],
   "source": [
    "import os\n",
    "os.remove('untitled.txt')"
   ]
  },
  {
   "cell_type": "code",
   "execution_count": 8,
   "metadata": {},
   "outputs": [
    {
     "data": {
      "text/plain": [
       "'new'"
      ]
     },
     "execution_count": 8,
     "metadata": {},
     "output_type": "execute_result"
    }
   ],
   "source": [
    "import shutil as s\n",
    "s.copy('class330.txt','new')"
   ]
  },
  {
   "cell_type": "code",
   "execution_count": 12,
   "metadata": {},
   "outputs": [
    {
     "data": {
      "text/plain": [
       "'news/'"
      ]
     },
     "execution_count": 12,
     "metadata": {},
     "output_type": "execute_result"
    }
   ],
   "source": [
    "import shutil as s\n",
    "s.copytree('f','news/')"
   ]
  },
  {
   "cell_type": "code",
   "execution_count": 13,
   "metadata": {},
   "outputs": [
    {
     "data": {
      "text/plain": [
       "'news1/'"
      ]
     },
     "execution_count": 13,
     "metadata": {},
     "output_type": "execute_result"
    }
   ],
   "source": [
    "import shutil as s\n",
    "s.move('f','news1/')"
   ]
  },
  {
   "cell_type": "code",
   "execution_count": 15,
   "metadata": {},
   "outputs": [],
   "source": [
    "import os\n",
    "os.rename('news1','news2')"
   ]
  },
  {
   "cell_type": "code",
   "execution_count": null,
   "metadata": {},
   "outputs": [],
   "source": []
  }
 ],
 "metadata": {
  "kernelspec": {
   "display_name": "Python 3",
   "language": "python",
   "name": "python3"
  },
  "language_info": {
   "codemirror_mode": {
    "name": "ipython",
    "version": 3
   },
   "file_extension": ".py",
   "mimetype": "text/x-python",
   "name": "python",
   "nbconvert_exporter": "python",
   "pygments_lexer": "ipython3",
   "version": "3.7.1"
  }
 },
 "nbformat": 4,
 "nbformat_minor": 2
}
