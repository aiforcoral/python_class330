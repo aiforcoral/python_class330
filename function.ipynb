{
 "cells": [
  {
   "cell_type": "code",
   "execution_count": 1,
   "metadata": {},
   "outputs": [],
   "source": [
    "# def <function_name():\n",
    "#     <operation>\n",
    "    \n",
    "# <function>()"
   ]
  },
  {
   "cell_type": "code",
   "execution_count": 3,
   "metadata": {},
   "outputs": [],
   "source": [
    "def hello():\n",
    "    print(\"Hello World\")\n",
    "    \n",
    "\n",
    "hello() "
   ]
  },
  {
   "cell_type": "code",
   "execution_count": 4,
   "metadata": {},
   "outputs": [
    {
     "name": "stdout",
     "output_type": "stream",
     "text": [
      "Hello World\n"
     ]
    }
   ],
   "source": []
  },
  {
   "cell_type": "code",
   "execution_count": 6,
   "metadata": {},
   "outputs": [
    {
     "name": "stdout",
     "output_type": "stream",
     "text": [
      "200.0\n"
     ]
    }
   ],
   "source": [
    "def cal():\n",
    "    p = 1000\n",
    "    t = 2\n",
    "    r = 10\n",
    "    \n",
    "    i = p*t*r/100\n",
    "    print(i)\n",
    "    \n",
    "cal()"
   ]
  },
  {
   "cell_type": "code",
   "execution_count": 1,
   "metadata": {},
   "outputs": [
    {
     "name": "stdout",
     "output_type": "stream",
     "text": [
      "Enter p =10.3\n",
      "Enter t = 3\n",
      "Enter r = 4\n",
      "1.236\n"
     ]
    }
   ],
   "source": [
    "def cal():\n",
    "    p = float(input(\"Enter p =\"))\n",
    "    t = float(input(\"Enter t = \"))\n",
    "    r = float(input(\"Enter r = \"))\n",
    "    \n",
    "    i = p*t*r/100\n",
    "    print(i)\n",
    "    \n",
    "cal()"
   ]
  },
  {
   "cell_type": "code",
   "execution_count": 3,
   "metadata": {},
   "outputs": [
    {
     "name": "stdout",
     "output_type": "stream",
     "text": [
      "Enter a =10\n",
      "Enter b =20\n"
     ]
    },
    {
     "data": {
      "text/plain": [
       "30"
      ]
     },
     "execution_count": 3,
     "metadata": {},
     "output_type": "execute_result"
    }
   ],
   "source": [
    "a = int(input(\"Enter a =\"))\n",
    "b = int(input(\"Enter b =\"))\n",
    "a+b"
   ]
  },
  {
   "cell_type": "code",
   "execution_count": 14,
   "metadata": {},
   "outputs": [
    {
     "name": "stdout",
     "output_type": "stream",
     "text": [
      "Enter p =10000\n",
      "Enter t = 4\n",
      "Enter r = 6\n",
      "2400.0\n",
      "10000.0\n"
     ]
    }
   ],
   "source": [
    "p = float(input(\"Enter p =\"))\n",
    "t = float(input(\"Enter t = \"))\n",
    "r = float(input(\"Enter r = \"))\n",
    "\n",
    "def cal():\n",
    "    i = p*t*r/100\n",
    "    print(i)\n",
    "    \n",
    "cal()\n",
    "print(p)"
   ]
  },
  {
   "cell_type": "code",
   "execution_count": 15,
   "metadata": {},
   "outputs": [
    {
     "name": "stdout",
     "output_type": "stream",
     "text": [
      "Enter p =1000\n",
      "Enter t = 6\n",
      "Enter r = 8\n",
      "480.0\n"
     ]
    }
   ],
   "source": [
    "def cal():\n",
    "    p = float(input(\"Enter p =\"))\n",
    "    t = float(input(\"Enter t = \"))\n",
    "    r = float(input(\"Enter r = \"))\n",
    "    \n",
    "    i = p*t*r/100\n",
    "    print(i)\n",
    "    \n",
    "cal()"
   ]
  },
  {
   "cell_type": "code",
   "execution_count": 16,
   "metadata": {},
   "outputs": [
    {
     "name": "stdout",
     "output_type": "stream",
     "text": [
      "Enter p =5000\n",
      "Enter t = 7\n",
      "Enter r = 8\n",
      "The value of i is =  2800.0\n"
     ]
    }
   ],
   "source": [
    "def cal():\n",
    "    p = float(input(\"Enter p =\"))\n",
    "    t = float(input(\"Enter t = \"))\n",
    "    r = float(input(\"Enter r = \"))\n",
    "    \n",
    "    global i\n",
    "    i = p*t*r/100\n",
    "    \n",
    "cal()\n",
    "print(\"The value of i is = \",i)"
   ]
  },
  {
   "cell_type": "code",
   "execution_count": 18,
   "metadata": {},
   "outputs": [
    {
     "name": "stdout",
     "output_type": "stream",
     "text": [
      "Enter l = 10\n",
      "Enter b = 3\n",
      "Enter h = 4\n",
      "The area is =  30\n",
      "The volume is = 120\n"
     ]
    }
   ],
   "source": [
    "def area():\n",
    "    l = int(input(\"Enter l = \"))\n",
    "    b = int(input(\"Enter b = \"))\n",
    "    global a\n",
    "    a = l*b\n",
    "\n",
    "def volume():\n",
    "    h = int(input(\"Enter h = \"))\n",
    "    global v\n",
    "    v = a*h\n",
    "area()\n",
    "volume()\n",
    "print(\"The area is = \",a)\n",
    "print(\"The volume is =\",v)"
   ]
  },
  {
   "cell_type": "code",
   "execution_count": 1,
   "metadata": {},
   "outputs": [
    {
     "name": "stdout",
     "output_type": "stream",
     "text": [
      "Enter l = 10000\n",
      "Enter b = 6\n",
      "Enter h = 7\n",
      "Area= 60000\n",
      "Volume= 420000\n"
     ]
    }
   ],
   "source": [
    "l = int(input(\"Enter l = \"))\n",
    "b = int(input(\"Enter b = \"))\n",
    "h = int(input(\"Enter h = \"))\n",
    "\n",
    "def area():\n",
    "    print(\"Area=\",l*b)\n",
    "    \n",
    "def vol():\n",
    "    print(\"Volume=\",l*b*h)\n",
    "    \n",
    "    \n",
    "area()\n",
    "vol()"
   ]
  },
  {
   "cell_type": "code",
   "execution_count": null,
   "metadata": {},
   "outputs": [],
   "source": [
    "# def <function_name>(<arg1>,<arg2>,...):\n",
    "#     <operation>\n",
    "\n",
    "    \n",
    "# <function_name>(<arg1>,<arg2>,...):\n"
   ]
  },
  {
   "cell_type": "code",
   "execution_count": 2,
   "metadata": {},
   "outputs": [
    {
     "name": "stdout",
     "output_type": "stream",
     "text": [
      "Area= 48\n",
      "Volume= 360\n"
     ]
    }
   ],
   "source": [
    "# Function with arguments\n",
    "def area(l,b):\n",
    "    print(\"Area=\",l*b)\n",
    "    \n",
    "def vol(l,b,h):\n",
    "    print(\"Volume=\",l*b*h)\n",
    "    \n",
    "    \n",
    "area(6,8)\n",
    "vol(8,9,5)"
   ]
  },
  {
   "cell_type": "code",
   "execution_count": 4,
   "metadata": {},
   "outputs": [
    {
     "name": "stdout",
     "output_type": "stream",
     "text": [
      "Enter l = 1000\n",
      "Enter b = 5\n",
      "Enter h = 5\n",
      "Area= 5000\n",
      "Volume= 25000\n"
     ]
    }
   ],
   "source": [
    "# Function with arguments\n",
    "def vol(l,b,h):\n",
    "    print(\"Volume=\",l*b*h)\n",
    "    \n",
    "def area(l,b):\n",
    "    print(\"Area=\",l*b)\n",
    "    \n",
    "    \n",
    "l = int(input(\"Enter l = \"))\n",
    "b = int(input(\"Enter b = \"))\n",
    "h = int(input(\"Enter h = \"))\n",
    "\n",
    "area(l,b)\n",
    "vol(l,b,h)"
   ]
  },
  {
   "cell_type": "code",
   "execution_count": 5,
   "metadata": {},
   "outputs": [
    {
     "name": "stdout",
     "output_type": "stream",
     "text": [
      "Enter l = 100\n",
      "Enter b = 6\n",
      "Enter h = 8\n",
      "Area= 600\n",
      "Volume= 4800\n"
     ]
    }
   ],
   "source": [
    "# Function with arguments\n",
    "x = int(input(\"Enter l = \"))\n",
    "y = int(input(\"Enter b = \"))\n",
    "z = int(input(\"Enter h = \"))\n",
    "\n",
    "def vol(l,b,h):\n",
    "    print(\"Volume=\",l*b*h)\n",
    "    \n",
    "def area(l,b):\n",
    "    print(\"Area=\",l*b)\n",
    "\n",
    "\n",
    "area(x,y)\n",
    "vol(x,y,z)"
   ]
  },
  {
   "cell_type": "code",
   "execution_count": null,
   "metadata": {},
   "outputs": [],
   "source": []
  }
 ],
 "metadata": {
  "kernelspec": {
   "display_name": "Python 3",
   "language": "python",
   "name": "python3"
  },
  "language_info": {
   "codemirror_mode": {
    "name": "ipython",
    "version": 3
   },
   "file_extension": ".py",
   "mimetype": "text/x-python",
   "name": "python",
   "nbconvert_exporter": "python",
   "pygments_lexer": "ipython3",
   "version": "3.7.1"
  }
 },
 "nbformat": 4,
 "nbformat_minor": 2
}
