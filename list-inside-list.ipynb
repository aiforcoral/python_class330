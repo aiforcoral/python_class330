{
 "cells": [
  {
   "cell_type": "code",
   "execution_count": 1,
   "metadata": {},
   "outputs": [
    {
     "data": {
      "text/plain": [
       "list"
      ]
     },
     "execution_count": 1,
     "metadata": {},
     "output_type": "execute_result"
    }
   ],
   "source": [
    "a = [[],[],[],[]]\n",
    "type(a)"
   ]
  },
  {
   "cell_type": "code",
   "execution_count": 2,
   "metadata": {},
   "outputs": [
    {
     "data": {
      "text/plain": [
       "list"
      ]
     },
     "execution_count": 2,
     "metadata": {},
     "output_type": "execute_result"
    }
   ],
   "source": [
    "a = [[1,2,3],[4,5,6],[7,8,9],[10,11,12]]\n",
    "type(a)"
   ]
  },
  {
   "cell_type": "code",
   "execution_count": 8,
   "metadata": {},
   "outputs": [
    {
     "data": {
      "text/plain": [
       "[4, 5, 6]"
      ]
     },
     "execution_count": 8,
     "metadata": {},
     "output_type": "execute_result"
    }
   ],
   "source": [
    "a = [[1,2,3],[4,5,6],[7,8,9],[10,11,12]]\n",
    "a[1]"
   ]
  },
  {
   "cell_type": "code",
   "execution_count": 7,
   "metadata": {},
   "outputs": [
    {
     "data": {
      "text/plain": [
       "4"
      ]
     },
     "execution_count": 7,
     "metadata": {},
     "output_type": "execute_result"
    }
   ],
   "source": [
    "a[1][0]"
   ]
  },
  {
   "cell_type": "code",
   "execution_count": 11,
   "metadata": {},
   "outputs": [
    {
     "name": "stdout",
     "output_type": "stream",
     "text": [
      "Enter n = 2\n",
      "Enter name =Ram\n",
      "Enter = age = 56\n",
      "Enter address = Kathmandu\n",
      "Enter name =Shyam\n",
      "Enter = age = 78\n",
      "Enter address = Patan\n",
      "[[1, 'Ram', 56, 'Kathmandu'], [2, 'Shyam', 78, 'Patan']]\n"
     ]
    }
   ],
   "source": [
    "a = []\n",
    "n = int(input(\"Enter n = \"))\n",
    "for i in range(1,n+1):\n",
    "    name = input(\"Enter name =\")\n",
    "    age = int(input(\"Enter = age = \"))\n",
    "    add = input(\"Enter address = \")\n",
    "    b = [i,name,age,add]\n",
    "    a.append(b)\n",
    "print(a)"
   ]
  },
  {
   "cell_type": "code",
   "execution_count": 31,
   "metadata": {},
   "outputs": [
    {
     "name": "stdout",
     "output_type": "stream",
     "text": [
      "Enter roll =2\n"
     ]
    },
    {
     "data": {
      "text/plain": [
       "[2, 'Shyam Prasad', 78, 'Patan']"
      ]
     },
     "execution_count": 31,
     "metadata": {},
     "output_type": "execute_result"
    }
   ],
   "source": [
    "roll = int(input(\"Enter roll =\"))\n",
    "x = a[roll-1]\n",
    "x"
   ]
  },
  {
   "cell_type": "code",
   "execution_count": 38,
   "metadata": {},
   "outputs": [],
   "source": [
    "a = [[1, 'Ram', 56, 'Kathmandu'], [2, 'Shyam', 78, 'Patan']]\n"
   ]
  },
  {
   "cell_type": "code",
   "execution_count": 32,
   "metadata": {},
   "outputs": [],
   "source": [
    "x[1]='Shyam Prasad Karki'"
   ]
  },
  {
   "cell_type": "code",
   "execution_count": 36,
   "metadata": {},
   "outputs": [
    {
     "data": {
      "text/plain": [
       "[2, 'Shyam Prasad Karki', 78, 'Patan']"
      ]
     },
     "execution_count": 36,
     "metadata": {},
     "output_type": "execute_result"
    }
   ],
   "source": [
    "x"
   ]
  },
  {
   "cell_type": "code",
   "execution_count": 37,
   "metadata": {},
   "outputs": [
    {
     "data": {
      "text/plain": [
       "[[2, 'Shyam Prasad Karki', 78, 'Patan']]"
      ]
     },
     "execution_count": 37,
     "metadata": {},
     "output_type": "execute_result"
    }
   ],
   "source": [
    "a"
   ]
  },
  {
   "cell_type": "code",
   "execution_count": 39,
   "metadata": {},
   "outputs": [
    {
     "data": {
      "text/plain": [
       "[[1, 56, 'Kathmandu'], [2, 'Shyam', 78, 'Patan']]"
      ]
     },
     "execution_count": 39,
     "metadata": {},
     "output_type": "execute_result"
    }
   ],
   "source": [
    "del a[0][1]\n",
    "a"
   ]
  },
  {
   "cell_type": "code",
   "execution_count": 40,
   "metadata": {},
   "outputs": [
    {
     "data": {
      "text/plain": [
       "[[2, 'Shyam', 78, 'Patan']]"
      ]
     },
     "execution_count": 40,
     "metadata": {},
     "output_type": "execute_result"
    }
   ],
   "source": [
    "a.remove([1, 56, 'Kathmandu'])\n",
    "a"
   ]
  },
  {
   "cell_type": "code",
   "execution_count": 41,
   "metadata": {},
   "outputs": [
    {
     "name": "stdout",
     "output_type": "stream",
     "text": [
      "No of rows = 2\n",
      "Enter name = ram\n",
      "Enter age 56\n",
      "Enter add = Bara\n",
      "Enter name = Shyam\n",
      "Enter age 67\n",
      "Enter add = Patan\n",
      "ram 56 Bara\n",
      "Shyam 67 Patan\n",
      "\n"
     ]
    }
   ],
   "source": [
    "#Value entry\n",
    "s = \"\"\n",
    "n = int(input(\"No of rows = \"))\n",
    "for i in range(n):\n",
    "    name = input(\"Enter name = \")\n",
    "    age = int(input(\"Enter age \"))\n",
    "    add = input(\"Enter add = \")\n",
    "    output = f\"{name} {age} {add}\\n\"\n",
    "    s = s+output\n",
    "print(s)"
   ]
  },
  {
   "cell_type": "code",
   "execution_count": 43,
   "metadata": {},
   "outputs": [
    {
     "data": {
      "text/plain": [
       "['ram 56 Bara', 'Shyam 67 Patan']"
      ]
     },
     "execution_count": 43,
     "metadata": {},
     "output_type": "execute_result"
    }
   ],
   "source": [
    "output = s.split('\\n')\n",
    "output = output[0:-1]\n",
    "output"
   ]
  },
  {
   "cell_type": "code",
   "execution_count": 44,
   "metadata": {},
   "outputs": [
    {
     "name": "stdout",
     "output_type": "stream",
     "text": [
      "[['ram', '56', 'Bara'], ['Shyam', '67', 'Patan']]\n"
     ]
    }
   ],
   "source": [
    "final =[]\n",
    "l = len(output)\n",
    "for i in range(l):\n",
    "    f = output[i].split()\n",
    "    final.append(f)\n",
    "print(final)"
   ]
  },
  {
   "cell_type": "code",
   "execution_count": 45,
   "metadata": {},
   "outputs": [
    {
     "name": "stdout",
     "output_type": "stream",
     "text": [
      "Enter n = 2\n",
      "Enter name =Shyam\n",
      "Enter physics marks67\n",
      "Enter chemistry marks90\n",
      "Enter maths marks97\n",
      "Enter english marks89\n",
      "Enter nepali marks89\n",
      "Enter name =Hari\n",
      "Enter physics marks89\n",
      "Enter chemistry marks78\n",
      "Enter maths marks67\n",
      "Enter english marks90\n",
      "Enter nepali marks78\n",
      "[[1, 'Shyam', 67, 90, 97, 89, 89, 432, 86.4], [2, 'Hari', 89, 78, 67, 90, 78, 402, 80.4]]\n"
     ]
    }
   ],
   "source": [
    "a = []\n",
    "n = int(input(\"Enter n = \"))\n",
    "for i in range(1,n+1):\n",
    "    name = input(\"Enter name =\")\n",
    "    physics = int(input(\"Enter physics marks\"))\n",
    "    chemistry = int(input(\"Enter chemistry marks\"))\n",
    "    math = int(input(\"Enter maths marks\"))\n",
    "    english = int(input(\"Enter english marks\"))\n",
    "    nepali = int(input(\"Enter nepali marks\"))\n",
    "    total = sum([physics,chemistry,math,english,nepali])\n",
    "    per = total/5\n",
    "   \n",
    "    b = [i,name,physics,chemistry,math,english,nepali,total,per]\n",
    "    a.append(b)\n",
    "print(a)"
   ]
  },
  {
   "cell_type": "code",
   "execution_count": 46,
   "metadata": {},
   "outputs": [
    {
     "name": "stdout",
     "output_type": "stream",
     "text": [
      "[1, 'Shyam', 67, 90, 97, 89, 89, 432, 86.4]\n",
      "[2, 'Hari', 89, 78, 67, 90, 78, 402, 80.4]\n"
     ]
    }
   ],
   "source": [
    "for i in a:\n",
    "    print(i)"
   ]
  },
  {
   "cell_type": "code",
   "execution_count": 54,
   "metadata": {},
   "outputs": [
    {
     "name": "stdout",
     "output_type": "stream",
     "text": [
      "Enter name = Shyam\n",
      "Yes\n",
      "[1, 'Shyam', 67, 90, 97, 89, 89, 432, 86.4]\n",
      "0\n"
     ]
    }
   ],
   "source": [
    "count=0\n",
    "name = input(\"Enter name = \")\n",
    "for i in a:\n",
    "    if name in i:\n",
    "        print(\"Yes\")\n",
    "        print(i)\n",
    "        print(a.index(i))\n",
    "        count+=1"
   ]
  },
  {
   "cell_type": "code",
   "execution_count": 53,
   "metadata": {},
   "outputs": [
    {
     "data": {
      "text/plain": [
       "1"
      ]
     },
     "execution_count": 53,
     "metadata": {},
     "output_type": "execute_result"
    }
   ],
   "source": [
    "count"
   ]
  },
  {
   "cell_type": "code",
   "execution_count": 59,
   "metadata": {},
   "outputs": [
    {
     "data": {
      "text/plain": [
       "[[1, 2, 3], [[4, 5, 6]]]"
      ]
     },
     "execution_count": 59,
     "metadata": {},
     "output_type": "execute_result"
    }
   ],
   "source": [
    "x = [[1,2,3]]\n",
    "y = [[[4,5,6]]]\n",
    "z = x+y\n",
    "z"
   ]
  },
  {
   "cell_type": "code",
   "execution_count": 57,
   "metadata": {},
   "outputs": [
    {
     "data": {
      "text/plain": [
       "4"
      ]
     },
     "execution_count": 57,
     "metadata": {},
     "output_type": "execute_result"
    }
   ],
   "source": [
    "len(z)"
   ]
  },
  {
   "cell_type": "code",
   "execution_count": 61,
   "metadata": {},
   "outputs": [
    {
     "data": {
      "text/plain": [
       "[1, 'Shyam', [30, 67], 90, 97, 89, 89, 432, 86.4]"
      ]
     },
     "execution_count": 61,
     "metadata": {},
     "output_type": "execute_result"
    }
   ],
   "source": [
    "x = [1, 'Shyam', [23,67], 90, 97, 89, 89, 432, 86.4]\n",
    "x[2][0]=30\n",
    "x"
   ]
  },
  {
   "cell_type": "code",
   "execution_count": null,
   "metadata": {},
   "outputs": [],
   "source": []
  }
 ],
 "metadata": {
  "kernelspec": {
   "display_name": "Python 3",
   "language": "python",
   "name": "python3"
  },
  "language_info": {
   "codemirror_mode": {
    "name": "ipython",
    "version": 3
   },
   "file_extension": ".py",
   "mimetype": "text/x-python",
   "name": "python",
   "nbconvert_exporter": "python",
   "pygments_lexer": "ipython3",
   "version": "3.7.1"
  }
 },
 "nbformat": 4,
 "nbformat_minor": 2
}
