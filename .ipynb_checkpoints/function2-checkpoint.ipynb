{
 "cells": [
  {
   "cell_type": "code",
   "execution_count": 1,
   "metadata": {},
   "outputs": [],
   "source": [
    "# def <function_name>():\n",
    "#     result = <operation>\n",
    "#     return <result>\n",
    "\n",
    "# <function_name>()"
   ]
  },
  {
   "cell_type": "code",
   "execution_count": 3,
   "metadata": {},
   "outputs": [
    {
     "name": "stdout",
     "output_type": "stream",
     "text": [
      "Hello World\n"
     ]
    }
   ],
   "source": [
    "def hello():\n",
    "    return \"Hello World\"\n",
    "\n",
    "print(hello())"
   ]
  },
  {
   "cell_type": "code",
   "execution_count": 4,
   "metadata": {},
   "outputs": [
    {
     "name": "stdout",
     "output_type": "stream",
     "text": [
      "Enter l = 67\n",
      "Enter b = 8\n"
     ]
    },
    {
     "data": {
      "text/plain": [
       "536"
      ]
     },
     "execution_count": 4,
     "metadata": {},
     "output_type": "execute_result"
    }
   ],
   "source": [
    "def area():\n",
    "    l = int(input(\"Enter l = \"))\n",
    "    b = int(input(\"Enter b = \"))\n",
    "    a = l*b\n",
    "    return a\n",
    "area()"
   ]
  },
  {
   "cell_type": "code",
   "execution_count": 5,
   "metadata": {},
   "outputs": [
    {
     "name": "stdout",
     "output_type": "stream",
     "text": [
      "Enter l = 78\n",
      "Enter b = 9\n",
      "The area is =  702\n"
     ]
    }
   ],
   "source": [
    "def area():\n",
    "    l = int(input(\"Enter l = \"))\n",
    "    b = int(input(\"Enter b = \"))\n",
    "    a = l*b\n",
    "    return a\n",
    "x = area()\n",
    "print(\"The area is = \",x)\n"
   ]
  },
  {
   "cell_type": "code",
   "execution_count": 7,
   "metadata": {},
   "outputs": [
    {
     "name": "stdout",
     "output_type": "stream",
     "text": [
      "Enter l = 39\n",
      "Enter b = 6\n",
      "The area is =  234\n",
      "Enter h = 8\n",
      "The volume is =  1872\n"
     ]
    }
   ],
   "source": [
    "def area():\n",
    "    l = int(input(\"Enter l = \"))\n",
    "    b = int(input(\"Enter b = \"))\n",
    "    a = l*b\n",
    "    return a\n",
    "\n",
    "x = area()\n",
    "print(\"The area is = \",x)\n",
    "h = int(input(\"Enter h = \"))\n",
    "y = x*h\n",
    "print(\"The volume is = \",y)"
   ]
  },
  {
   "cell_type": "code",
   "execution_count": 8,
   "metadata": {},
   "outputs": [
    {
     "name": "stdout",
     "output_type": "stream",
     "text": [
      "Enter l = 34\n",
      "Enter b = 67\n",
      "Enter h = 5\n",
      "Area and volume is= 2278 11390\n"
     ]
    }
   ],
   "source": [
    "# Function with arguments\n",
    "def vol(l,b,h):\n",
    "    return l*b*h\n",
    "    \n",
    "def area(l,b):\n",
    "    return l*b\n",
    "    \n",
    "    \n",
    "l = int(input(\"Enter l = \"))\n",
    "b = int(input(\"Enter b = \"))\n",
    "h = int(input(\"Enter h = \"))\n",
    "\n",
    "a = area(l,b)\n",
    "v = vol(l,b,h)\n",
    "print(\"Area and volume is=\",a,v)"
   ]
  },
  {
   "cell_type": "code",
   "execution_count": 10,
   "metadata": {},
   "outputs": [
    {
     "name": "stdout",
     "output_type": "stream",
     "text": [
      "Enter l = 100\n",
      "Enter b = 6\n",
      "Enter h = 8\n",
      "Area is= 600\n",
      "Volume is= 4800\n"
     ]
    }
   ],
   "source": [
    "# Function with arguments and return type\n",
    "def cal(l,b,h):\n",
    "    a = l*b\n",
    "    v = l*b*h\n",
    "    return a,v\n",
    "    \n",
    "    \n",
    "l = int(input(\"Enter l = \"))\n",
    "b = int(input(\"Enter b = \"))\n",
    "h = int(input(\"Enter h = \"))\n",
    "\n",
    "x=cal(l,b,h)\n",
    "area,volume=x\n",
    "print(\"Area is=\",area)\n",
    "print(\"Volume is=\",volume)"
   ]
  },
  {
   "cell_type": "code",
   "execution_count": null,
   "metadata": {},
   "outputs": [],
   "source": []
  }
 ],
 "metadata": {
  "kernelspec": {
   "display_name": "Python 3",
   "language": "python",
   "name": "python3"
  },
  "language_info": {
   "codemirror_mode": {
    "name": "ipython",
    "version": 3
   },
   "file_extension": ".py",
   "mimetype": "text/x-python",
   "name": "python",
   "nbconvert_exporter": "python",
   "pygments_lexer": "ipython3",
   "version": "3.7.1"
  }
 },
 "nbformat": 4,
 "nbformat_minor": 2
}
