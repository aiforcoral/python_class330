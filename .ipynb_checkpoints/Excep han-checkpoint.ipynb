{
 "cells": [
  {
   "cell_type": "code",
   "execution_count": 3,
   "metadata": {},
   "outputs": [
    {
     "name": "stdout",
     "output_type": "stream",
     "text": [
      "Enter age = ten\n"
     ]
    },
    {
     "ename": "ValueError",
     "evalue": "invalid literal for int() with base 10: 'ten'",
     "output_type": "error",
     "traceback": [
      "\u001b[1;31m---------------------------------------------------------------------------\u001b[0m",
      "\u001b[1;31mValueError\u001b[0m                                Traceback (most recent call last)",
      "\u001b[1;32m<ipython-input-3-bcd606cbe2d7>\u001b[0m in \u001b[0;36m<module>\u001b[1;34m\u001b[0m\n\u001b[1;32m----> 1\u001b[1;33m \u001b[0mage\u001b[0m \u001b[1;33m=\u001b[0m \u001b[0mint\u001b[0m\u001b[1;33m(\u001b[0m\u001b[0minput\u001b[0m\u001b[1;33m(\u001b[0m\u001b[1;34m\"Enter age = \"\u001b[0m\u001b[1;33m)\u001b[0m\u001b[1;33m)\u001b[0m\u001b[1;33m\u001b[0m\u001b[1;33m\u001b[0m\u001b[0m\n\u001b[0m",
      "\u001b[1;31mValueError\u001b[0m: invalid literal for int() with base 10: 'ten'"
     ]
    }
   ],
   "source": [
    "age = int(input(\"Enter age = \"))\n"
   ]
  },
  {
   "cell_type": "code",
   "execution_count": 4,
   "metadata": {},
   "outputs": [
    {
     "name": "stdout",
     "output_type": "stream",
     "text": [
      "Enter age = ten\n",
      "Enter age in int\n"
     ]
    }
   ],
   "source": [
    "try:\n",
    "    age = int(input(\"Enter age = \"))\n",
    "    \n",
    "except:\n",
    "    print(\"Enter age in int\")"
   ]
  },
  {
   "cell_type": "code",
   "execution_count": 7,
   "metadata": {},
   "outputs": [
    {
     "name": "stdout",
     "output_type": "stream",
     "text": [
      "Enter age = kjhkjh\n",
      "Enter age in int\n"
     ]
    }
   ],
   "source": [
    "try:\n",
    "    age = int(input(\"Enter age = \"))\n",
    "except ValueError:\n",
    "    print(\"Enter age in int\")"
   ]
  },
  {
   "cell_type": "code",
   "execution_count": 4,
   "metadata": {},
   "outputs": [
    {
     "name": "stdout",
     "output_type": "stream",
     "text": [
      "Enter age = jjhghj\n"
     ]
    },
    {
     "ename": "ValueError",
     "evalue": "invalid literal for int() with base 10: 'jjhghj'",
     "output_type": "error",
     "traceback": [
      "\u001b[1;31m---------------------------------------------------------------------------\u001b[0m",
      "\u001b[1;31mValueError\u001b[0m                                Traceback (most recent call last)",
      "\u001b[1;32m<ipython-input-4-bcd606cbe2d7>\u001b[0m in \u001b[0;36m<module>\u001b[1;34m\u001b[0m\n\u001b[1;32m----> 1\u001b[1;33m \u001b[0mage\u001b[0m \u001b[1;33m=\u001b[0m \u001b[0mint\u001b[0m\u001b[1;33m(\u001b[0m\u001b[0minput\u001b[0m\u001b[1;33m(\u001b[0m\u001b[1;34m\"Enter age = \"\u001b[0m\u001b[1;33m)\u001b[0m\u001b[1;33m)\u001b[0m\u001b[1;33m\u001b[0m\u001b[1;33m\u001b[0m\u001b[0m\n\u001b[0m",
      "\u001b[1;31mValueError\u001b[0m: invalid literal for int() with base 10: 'jjhghj'"
     ]
    }
   ],
   "source": [
    "age = int(input(\"Enter age = \"))"
   ]
  },
  {
   "cell_type": "code",
   "execution_count": 6,
   "metadata": {},
   "outputs": [
    {
     "name": "stdout",
     "output_type": "stream",
     "text": [
      "Enter a = 12\n",
      "Enter b = 0\n",
      "Enter age in int\n"
     ]
    }
   ],
   "source": [
    "try:\n",
    "    a = int(input(\"Enter a = \"))\n",
    "    b = int(input(\"Enter b = \"))\n",
    "    c = a/b\n",
    "    print(c)\n",
    "except:\n",
    "    \n",
    "    print(\"Enter age in int\")"
   ]
  },
  {
   "cell_type": "code",
   "execution_count": 8,
   "metadata": {},
   "outputs": [
    {
     "ename": "ZeroDivisionError",
     "evalue": "division by zero",
     "output_type": "error",
     "traceback": [
      "\u001b[1;31m---------------------------------------------------------------------------\u001b[0m",
      "\u001b[1;31mZeroDivisionError\u001b[0m                         Traceback (most recent call last)",
      "\u001b[1;32m<ipython-input-8-e574edb36883>\u001b[0m in \u001b[0;36m<module>\u001b[1;34m\u001b[0m\n\u001b[1;32m----> 1\u001b[1;33m \u001b[1;36m10\u001b[0m\u001b[1;33m/\u001b[0m\u001b[1;36m0\u001b[0m\u001b[1;33m\u001b[0m\u001b[1;33m\u001b[0m\u001b[0m\n\u001b[0m",
      "\u001b[1;31mZeroDivisionError\u001b[0m: division by zero"
     ]
    }
   ],
   "source": [
    "10/0"
   ]
  },
  {
   "cell_type": "code",
   "execution_count": 19,
   "metadata": {},
   "outputs": [
    {
     "name": "stdout",
     "output_type": "stream",
     "text": [
      "Enter a = 4\n",
      "Enter b = 9\n"
     ]
    }
   ],
   "source": [
    "try:\n",
    "    a = int(input(\"Enter a = \"))\n",
    "    b = int(input(\"Enter b = \"))\n",
    "    c = a/b\n",
    "\n",
    "except ZeroDivisionError:\n",
    "    print(\"b should not be zero\")\n",
    "    \n",
    "except ValueError:\n",
    "    print(\"a and b should be int\")\n",
    "    \n",
    "    \n",
    "\n"
   ]
  },
  {
   "cell_type": "code",
   "execution_count": 13,
   "metadata": {},
   "outputs": [
    {
     "name": "stdout",
     "output_type": "stream",
     "text": [
      "Enter username = hfhf\n",
      "Enter password = admin\n",
      "Invalid username\n"
     ]
    }
   ],
   "source": [
    "user1 = \"admin\"\n",
    "pass1 = \"admin\"\n",
    "\n",
    "try:\n",
    "    user = input(\"Enter username = \")\n",
    "    password = input(\"Enter password = \")\n",
    "    if user != user1:\n",
    "        raise ZeroDivisionError\n",
    "        \n",
    "    if password !=pass1:\n",
    "        raise ValueError\n",
    "    \n",
    "except ZeroDivisionError:\n",
    "    print(\"Invalid username\")\n",
    "    \n",
    "except ValueError:\n",
    "    print(\"Incorrect password\")"
   ]
  },
  {
   "cell_type": "code",
   "execution_count": 2,
   "metadata": {},
   "outputs": [
    {
     "name": "stdout",
     "output_type": "stream",
     "text": [
      "Enter username = admin\n",
      "Enter password = admin\n",
      "you are logined\n"
     ]
    }
   ],
   "source": [
    "user1 = \"admin\"\n",
    "pass1 = \"admin\"\n",
    "def login():\n",
    "    try:\n",
    "        user = input(\"Enter username = \")\n",
    "        password = input(\"Enter password = \")\n",
    "        if user != user1:\n",
    "            raise ZeroDivisionError\n",
    "\n",
    "        if password !=pass1:\n",
    "            raise ValueError\n",
    "        print(\"you are logined\")\n",
    "    except ZeroDivisionError:\n",
    "        print(\"Invalid username\")\n",
    "        login()\n",
    "\n",
    "    except ValueError:\n",
    "        print(\"Incorrect password\")\n",
    "        login()\n",
    "        \n",
    "login()"
   ]
  },
  {
   "cell_type": "code",
   "execution_count": 3,
   "metadata": {},
   "outputs": [
    {
     "name": "stdout",
     "output_type": "stream",
     "text": [
      "Enter a = 10\n",
      "Enter b = 3\n",
      "the value of c is  3.3333333333333335\n"
     ]
    }
   ],
   "source": [
    "try:\n",
    "    a = int(input(\"Enter a = \"))\n",
    "    b = int(input(\"Enter b = \"))\n",
    "    c = a/b\n",
    "\n",
    "except ZeroDivisionError:\n",
    "    print(\"b should not be zero\")\n",
    "    \n",
    "except ValueError:\n",
    "    print(\"a and b should be int\")\n",
    "\n",
    "else:\n",
    "    print(\"the value of c is \",c)\n",
    "    \n",
    "\n"
   ]
  },
  {
   "cell_type": "code",
   "execution_count": 4,
   "metadata": {},
   "outputs": [
    {
     "name": "stdout",
     "output_type": "stream",
     "text": [
      "Enter username = admin\n",
      "Enter password = admin\n",
      "you are logined\n"
     ]
    }
   ],
   "source": [
    "user1 = \"admin\"\n",
    "pass1 = \"admin\"\n",
    "def login():\n",
    "    try:\n",
    "        user = input(\"Enter username = \")\n",
    "        password = input(\"Enter password = \")\n",
    "        if user != user1:\n",
    "            raise ZeroDivisionError\n",
    "\n",
    "        if password !=pass1:\n",
    "            raise ValueError\n",
    "       \n",
    "    except ZeroDivisionError:\n",
    "        print(\"Invalid username\")\n",
    "        login()\n",
    "\n",
    "    except ValueError:\n",
    "        print(\"Incorrect password\")\n",
    "        login()\n",
    "        \n",
    "    else:\n",
    "         print(\"you are logined\")\n",
    "        \n",
    "login()"
   ]
  },
  {
   "cell_type": "code",
   "execution_count": 10,
   "metadata": {},
   "outputs": [
    {
     "name": "stdout",
     "output_type": "stream",
     "text": [
      "Enter a = 10\n",
      "Enter b = 0\n",
      "b should not be zero\n",
      "This is finally block\n"
     ]
    }
   ],
   "source": [
    "try:\n",
    "    a = int(input(\"Enter a = \"))\n",
    "    b = int(input(\"Enter b = \"))\n",
    "    c = a/b\n",
    "\n",
    "except ZeroDivisionError:\n",
    "    print(\"b should not be zero\")\n",
    "    \n",
    "except ValueError:\n",
    "    print(\"a and b should be int\")\n",
    "\n",
    "else:\n",
    "    print(\"the value of c is \",c)\n",
    "    \n",
    "finally:\n",
    "    print(\"This is finally block\")"
   ]
  },
  {
   "cell_type": "code",
   "execution_count": null,
   "metadata": {},
   "outputs": [
    {
     "name": "stdout",
     "output_type": "stream",
     "text": [
      "Enter username = adas\n",
      "Enter password = asdas\n",
      "Invalid username\n",
      "Enter username = asdas\n",
      "Enter password = ad\n"
     ]
    }
   ],
   "source": [
    "user1 = \"admin\"\n",
    "pass1 = \"admin\"\n",
    "def login(count):\n",
    "    count = count+1\n",
    "    try:\n",
    "        user = input(\"Enter username = \")\n",
    "        password = input(\"Enter password = \")\n",
    "        if user != user1:\n",
    "            raise ZeroDivisionError\n",
    "\n",
    "        if password !=pass1:\n",
    "            raise ValueError\n",
    "       \n",
    "    except ZeroDivisionError:\n",
    "        print(\"Invalid username\")\n",
    "        login(count)\n",
    "\n",
    "    except ValueError:\n",
    "        print(\"Incorrect password\")\n",
    "        login(count)\n",
    "        \n",
    "    else:\n",
    "         print(\"you are logined\")\n",
    "            \n",
    "    finally:\n",
    "        print(\"count\")\n",
    "count=0\n",
    "login(count)"
   ]
  },
  {
   "cell_type": "code",
   "execution_count": null,
   "metadata": {},
   "outputs": [],
   "source": []
  }
 ],
 "metadata": {
  "kernelspec": {
   "display_name": "Python 3",
   "language": "python",
   "name": "python3"
  },
  "language_info": {
   "codemirror_mode": {
    "name": "ipython",
    "version": 3
   },
   "file_extension": ".py",
   "mimetype": "text/x-python",
   "name": "python",
   "nbconvert_exporter": "python",
   "pygments_lexer": "ipython3",
   "version": "3.7.1"
  }
 },
 "nbformat": 4,
 "nbformat_minor": 2
}
