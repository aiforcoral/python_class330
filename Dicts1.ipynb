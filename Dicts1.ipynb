{
 "cells": [
  {
   "cell_type": "code",
   "execution_count": 1,
   "metadata": {},
   "outputs": [],
   "source": [
    "# list\n",
    "# tuple\n",
    "# dicts\n",
    "# set"
   ]
  },
  {
   "cell_type": "code",
   "execution_count": 2,
   "metadata": {},
   "outputs": [],
   "source": [
    "x = {'Shyam': ['9856445675', '014456554'], 'Hari': ['9855653455', '014456554']}"
   ]
  },
  {
   "cell_type": "code",
   "execution_count": 3,
   "metadata": {},
   "outputs": [],
   "source": [
    "x = {'Shyam': ('9856445675', '014456554'), 'Hari': ('9855653455', '014456554')}"
   ]
  },
  {
   "cell_type": "code",
   "execution_count": 5,
   "metadata": {},
   "outputs": [
    {
     "name": "stdout",
     "output_type": "stream",
     "text": [
      "Enter n = 2\n",
      "Enter name = Ram\n",
      "Enter mobile no=4645654645\n",
      "Enter landline no = 34534\n",
      "Enter name = Shyam\n",
      "Enter mobile no=757575\n",
      "Enter landline no = 534534\n"
     ]
    },
    {
     "data": {
      "text/plain": [
       "{'Ram': ('4645654645', '34534'), 'Shyam': ('757575', '534534')}"
      ]
     },
     "execution_count": 5,
     "metadata": {},
     "output_type": "execute_result"
    }
   ],
   "source": [
    "x = {}\n",
    "n = int(input(\"Enter n = \"))\n",
    "for i in range(n):\n",
    "    name = input(\"Enter name = \")\n",
    "    mobile = input(\"Enter mobile no=\")\n",
    "    landline = input(\"Enter landline no = \")\n",
    "    x[name] = (mobile,landline)\n",
    "x"
   ]
  },
  {
   "cell_type": "code",
   "execution_count": 6,
   "metadata": {},
   "outputs": [],
   "source": [
    "x = {1:{\"Name\":\"Ram\",\"Mobile\":9845667656,\"Landline\":4456554},\n",
    "    2:{\"Name\":\"Ram\",\"Mobile\":9845667656,\"Landline\":4456554}}\n"
   ]
  },
  {
   "cell_type": "code",
   "execution_count": 7,
   "metadata": {},
   "outputs": [
    {
     "name": "stdout",
     "output_type": "stream",
     "text": [
      "Enter n = 2\n",
      "Enter name = Ram\n",
      "Enter mobile no=9867665676\n",
      "Enter landline no = 4456554\n",
      "Enter name = Shyam\n",
      "Enter mobile no=9867665\n",
      "Enter landline no = 4456554\n"
     ]
    },
    {
     "data": {
      "text/plain": [
       "{1: {'Name': 'Ram', 'Mobile': '9867665676', 'Landline': '4456554'},\n",
       " 2: {'Name': 'Shyam', 'Mobile': '9867665', 'Landline': '4456554'}}"
      ]
     },
     "execution_count": 7,
     "metadata": {},
     "output_type": "execute_result"
    }
   ],
   "source": [
    "x = {}\n",
    "n = int(input(\"Enter n = \"))\n",
    "for i in range(1,n+1):\n",
    "    name = input(\"Enter name = \")\n",
    "    mobile = input(\"Enter mobile no=\")\n",
    "    landline = input(\"Enter landline no = \")\n",
    "    x[i] = {\"Name\":name,\"Mobile\":mobile,\"Landline\":landline}\n",
    "x"
   ]
  },
  {
   "cell_type": "code",
   "execution_count": 10,
   "metadata": {},
   "outputs": [
    {
     "data": {
      "text/plain": [
       "{'Name': 'Ram', 'Mobile': '9867665676', 'Landline': '4456554'}"
      ]
     },
     "execution_count": 10,
     "metadata": {},
     "output_type": "execute_result"
    }
   ],
   "source": [
    "x[1]"
   ]
  },
  {
   "cell_type": "code",
   "execution_count": 12,
   "metadata": {},
   "outputs": [
    {
     "data": {
      "text/plain": [
       "{1: {'Name': 'Ram Prasad', 'Mobile': '9867665676', 'Landline': '4456554'},\n",
       " 2: {'Name': 'Shyam', 'Mobile': '9867665', 'Landline': '4456554'}}"
      ]
     },
     "execution_count": 12,
     "metadata": {},
     "output_type": "execute_result"
    }
   ],
   "source": [
    "x[1]['Name']=\"Ram Prasad\"\n",
    "x"
   ]
  },
  {
   "cell_type": "code",
   "execution_count": 14,
   "metadata": {},
   "outputs": [],
   "source": [
    "x[1]['Mobile'] = [9867665676,98342423]"
   ]
  },
  {
   "cell_type": "code",
   "execution_count": 15,
   "metadata": {},
   "outputs": [
    {
     "data": {
      "text/plain": [
       "{1: {'Name': 'Ram Prasad',\n",
       "  'Mobile': [9867665676, 98342423],\n",
       "  'Landline': '4456554'},\n",
       " 2: {'Name': 'Shyam', 'Mobile': '9867665', 'Landline': '4456554'}}"
      ]
     },
     "execution_count": 15,
     "metadata": {},
     "output_type": "execute_result"
    }
   ],
   "source": [
    "x"
   ]
  },
  {
   "cell_type": "code",
   "execution_count": 16,
   "metadata": {},
   "outputs": [
    {
     "data": {
      "text/plain": [
       "{1: {'Name': 'Ram Prasad', 'Mobile': '9867665676', 'Landline': '4456554'},\n",
       " 2: {'Name': 'Shyam', 'Mobile': '9867665', 'Landline': '4456554'},\n",
       " 3: {'Name': 'Akash', 'Mobile': 9866764567}}"
      ]
     },
     "execution_count": 16,
     "metadata": {},
     "output_type": "execute_result"
    }
   ],
   "source": [
    "x = {1: {'Name': 'Ram Prasad', 'Mobile': '9867665676', 'Landline': '4456554'},\n",
    "     2: {'Name': 'Shyam', 'Mobile': '9867665', 'Landline': '4456554'}}\n",
    "x[3]={'Name':'Akash','Mobile':9866764567}\n",
    "x"
   ]
  },
  {
   "cell_type": "code",
   "execution_count": 18,
   "metadata": {},
   "outputs": [
    {
     "name": "stdout",
     "output_type": "stream",
     "text": [
      "Enter n = 2\n",
      "Enter name = Shyam\n",
      "Enter physics = 78\n",
      "Enter chemistry =90\n",
      "Enter math = 67\n",
      "Enter English = 90\n",
      "Enter Nepali=98\n",
      "Enter name = Ram\n",
      "Enter physics = 89\n",
      "Enter chemistry =90\n",
      "Enter math = 89\n",
      "Enter English = 09\n",
      "Enter Nepali=89\n",
      "{1: {'Name': 'Shyam', 'Physics': 78, 'Chemistry': 90, 'Math': 67, 'English': 90, 'Nepali': 98, 'Total': 423, 'Percentege': 84.6}, 2: {'Name': 'Ram', 'Physics': 89, 'Chemistry': 90, 'Math': 89, 'English': 9, 'Nepali': 89, 'Total': 366, 'Percentege': 73.2}}\n"
     ]
    }
   ],
   "source": [
    "x={}\n",
    "n = int(input(\"Enter n = \"))\n",
    "for i in range(1,n+1):\n",
    "    name = input(\"Enter name = \")\n",
    "    physics = int(input(\"Enter physics = \"))\n",
    "    chemistry = int(input(\"Enter chemistry =\"))\n",
    "    math = int(input(\"Enter math = \"))\n",
    "    english = int(input(\"Enter English = \"))\n",
    "    nepali = int(input(\"Enter Nepali=\"))\n",
    "    total = sum([physics,chemistry,math,english,nepali])\n",
    "    per = total/5\n",
    "    x[i]={\"Name\":name,\"Physics\":physics,\"Chemistry\":chemistry,\"Math\":math,\n",
    "          \"English\":english,\"Nepali\":nepali,\"Total\":total,\"Percentege\":per}\n",
    "print(x)"
   ]
  },
  {
   "cell_type": "code",
   "execution_count": 21,
   "metadata": {},
   "outputs": [
    {
     "data": {
      "text/plain": [
       "{1: {'Name': 'Shyam',\n",
       "  'Physics': 78,\n",
       "  'Chemistry': 90,\n",
       "  'Math': 87,\n",
       "  'English': 90,\n",
       "  'Nepali': 98,\n",
       "  'Total': 423,\n",
       "  'Percentege': 84.6},\n",
       " 2: {'Name': 'Ram',\n",
       "  'Physics': 89,\n",
       "  'Chemistry': 90,\n",
       "  'Math': 89,\n",
       "  'English': 9,\n",
       "  'Nepali': 89,\n",
       "  'Total': 366,\n",
       "  'Percentege': 73.2}}"
      ]
     },
     "execution_count": 21,
     "metadata": {},
     "output_type": "execute_result"
    }
   ],
   "source": [
    "x[1]['Math']=87\n",
    "x"
   ]
  },
  {
   "cell_type": "code",
   "execution_count": 25,
   "metadata": {},
   "outputs": [
    {
     "name": "stdout",
     "output_type": "stream",
     "text": [
      "Enter how many items = 2\n",
      "Enter name = hgh\n",
      "Enter unit price230\n",
      "Enter quantity = 3\n",
      "Enter name = hjhgh\n",
      "Enter unit price800\n",
      "Enter quantity = 3\n",
      "{1: {'Product': 'hgh', 'Price': 230, 'Quantity': 3, 'Total': 690}, 2: {'Product': 'hjhgh', 'Price': 800, 'Quantity': 3, 'Total': 2400}, 'Total Price': 3090, 'Vat': 401.7, 'All Total': 3491.7}\n"
     ]
    }
   ],
   "source": [
    "bill = {}\n",
    "total_price = 0\n",
    "n = int(input(\"Enter how many items = \"))\n",
    "for i in range(1,n+1):\n",
    "    product = input(\"Enter name = \")\n",
    "    price = int(input(\"Enter unit price\"))\n",
    "    quantity = int(input(\"Enter quantity = \"))\n",
    "    item_total = price*quantity\n",
    "    total_price =item_total+ total_price\n",
    "    \n",
    "    bill[i] = {\"Product\":product,\"Price\":price,\"Quantity\":quantity,\"Total\":item_total}\n",
    "    \n",
    "bill['Total Price']=total_price\n",
    "bill['Vat'] = total_price*0.13\n",
    "bill['All Total']=total_price*1.13\n",
    "print(bill)"
   ]
  },
  {
   "cell_type": "code",
   "execution_count": 26,
   "metadata": {},
   "outputs": [
    {
     "name": "stdout",
     "output_type": "stream",
     "text": [
      "(1, {'Product': 'hgh', 'Price': 230, 'Quantity': 3, 'Total': 690})\n",
      "(2, {'Product': 'hjhgh', 'Price': 800, 'Quantity': 3, 'Total': 2400})\n",
      "('Total Price', 3090)\n",
      "('Vat', 401.7)\n",
      "('All Total', 3491.7)\n"
     ]
    }
   ],
   "source": [
    "for i in bill.items():\n",
    "    print(i)"
   ]
  },
  {
   "cell_type": "code",
   "execution_count": null,
   "metadata": {},
   "outputs": [],
   "source": []
  }
 ],
 "metadata": {
  "kernelspec": {
   "display_name": "Python 3",
   "language": "python",
   "name": "python3"
  },
  "language_info": {
   "codemirror_mode": {
    "name": "ipython",
    "version": 3
   },
   "file_extension": ".py",
   "mimetype": "text/x-python",
   "name": "python",
   "nbconvert_exporter": "python",
   "pygments_lexer": "ipython3",
   "version": "3.7.1"
  }
 },
 "nbformat": 4,
 "nbformat_minor": 2
}
