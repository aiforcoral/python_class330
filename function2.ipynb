{
 "cells": [
  {
   "cell_type": "code",
   "execution_count": 1,
   "metadata": {},
   "outputs": [],
   "source": [
    "# def <function_name>():\n",
    "#     result = <operation>\n",
    "#     return <result>\n",
    "\n",
    "# <function_name>()"
   ]
  },
  {
   "cell_type": "code",
   "execution_count": 3,
   "metadata": {},
   "outputs": [
    {
     "name": "stdout",
     "output_type": "stream",
     "text": [
      "Hello World\n"
     ]
    }
   ],
   "source": [
    "def hello():\n",
    "    return \"Hello World\"\n",
    "\n",
    "print(hello())"
   ]
  },
  {
   "cell_type": "code",
   "execution_count": 4,
   "metadata": {},
   "outputs": [
    {
     "name": "stdout",
     "output_type": "stream",
     "text": [
      "Enter l = 67\n",
      "Enter b = 8\n"
     ]
    },
    {
     "data": {
      "text/plain": [
       "536"
      ]
     },
     "execution_count": 4,
     "metadata": {},
     "output_type": "execute_result"
    }
   ],
   "source": [
    "def area():\n",
    "    l = int(input(\"Enter l = \"))\n",
    "    b = int(input(\"Enter b = \"))\n",
    "    a = l*b\n",
    "    return a\n",
    "area()"
   ]
  },
  {
   "cell_type": "code",
   "execution_count": 5,
   "metadata": {},
   "outputs": [
    {
     "name": "stdout",
     "output_type": "stream",
     "text": [
      "Enter l = 78\n",
      "Enter b = 9\n",
      "The area is =  702\n"
     ]
    }
   ],
   "source": [
    "def area():\n",
    "    l = int(input(\"Enter l = \"))\n",
    "    b = int(input(\"Enter b = \"))\n",
    "    a = l*b\n",
    "    return a\n",
    "\n",
    "x = area()\n",
    "print(\"The area is = \",x)\n"
   ]
  },
  {
   "cell_type": "code",
   "execution_count": 7,
   "metadata": {},
   "outputs": [
    {
     "name": "stdout",
     "output_type": "stream",
     "text": [
      "Enter l = 39\n",
      "Enter b = 6\n",
      "The area is =  234\n",
      "Enter h = 8\n",
      "The volume is =  1872\n"
     ]
    }
   ],
   "source": [
    "def area():\n",
    "    l = int(input(\"Enter l = \"))\n",
    "    b = int(input(\"Enter b = \"))\n",
    "    a = l*b\n",
    "    return a\n",
    "\n",
    "x = area()\n",
    "print(\"The area is = \",x)\n",
    "h = int(input(\"Enter h = \"))\n",
    "y = x*h\n",
    "print(\"The volume is = \",y)"
   ]
  },
  {
   "cell_type": "code",
   "execution_count": 8,
   "metadata": {},
   "outputs": [
    {
     "name": "stdout",
     "output_type": "stream",
     "text": [
      "Enter l = 34\n",
      "Enter b = 67\n",
      "Enter h = 5\n",
      "Area and volume is= 2278 11390\n"
     ]
    }
   ],
   "source": [
    "# Function with arguments\n",
    "def vol(l,b,h):\n",
    "    return l*b*h\n",
    "    \n",
    "def area(l,b):\n",
    "    return l*b\n",
    "    \n",
    "    \n",
    "l = int(input(\"Enter l = \"))\n",
    "b = int(input(\"Enter b = \"))\n",
    "h = int(input(\"Enter h = \"))\n",
    "\n",
    "a = area(l,b)\n",
    "v = vol(l,b,h)\n",
    "print(\"Area and volume is=\",a,v)"
   ]
  },
  {
   "cell_type": "code",
   "execution_count": 17,
   "metadata": {},
   "outputs": [
    {
     "name": "stdout",
     "output_type": "stream",
     "text": [
      "Enter l = 100\n",
      "Enter b = 4\n",
      "Enter h = 7\n",
      "(400, 2800)\n",
      "Area is= 400\n",
      "Volume is= 2800\n"
     ]
    }
   ],
   "source": [
    "# Function with arguments and return type\n",
    "def cal(l,b,h):\n",
    "    a = l*b\n",
    "    v = l*b*h\n",
    "    return a,v\n",
    "    \n",
    "    \n",
    "l = int(input(\"Enter l = \"))\n",
    "b = int(input(\"Enter b = \"))\n",
    "h = int(input(\"Enter h = \"))\n",
    "\n",
    "x=cal(l,b,h)\n",
    "print(x)\n",
    "area,volume=x\n",
    "print(\"Area is=\",area)\n",
    "print(\"Volume is=\",volume)"
   ]
  },
  {
   "cell_type": "code",
   "execution_count": 16,
   "metadata": {},
   "outputs": [
    {
     "name": "stdout",
     "output_type": "stream",
     "text": [
      "Enter name = ram\n",
      "Enter age = 56\n",
      "Enter address = Bara\n"
     ]
    },
    {
     "data": {
      "text/plain": [
       "'Hello my name isram. I am 56 .I am from Bara'"
      ]
     },
     "execution_count": 16,
     "metadata": {},
     "output_type": "execute_result"
    }
   ],
   "source": [
    "#tuple as an argument\n",
    "def info(x):\n",
    "    return \"Hello my name is\" + name + \". I am \" +age+ \" .I am from \" + address\n",
    "\n",
    "name = input(\"Enter name = \")\n",
    "age = input(\"Enter age = \")\n",
    "address = input(\"Enter address = \")\n",
    "\n",
    "x = (name,age,address)\n",
    "\n",
    "info(x)"
   ]
  },
  {
   "cell_type": "code",
   "execution_count": 15,
   "metadata": {},
   "outputs": [
    {
     "data": {
      "text/plain": [
       "'AppleBallCat'"
      ]
     },
     "execution_count": 15,
     "metadata": {},
     "output_type": "execute_result"
    }
   ],
   "source": [
    "a = \"Apple\"\n",
    "b =\"Ball\"\n",
    "\"Apple\"+b+\"Cat\""
   ]
  },
  {
   "cell_type": "code",
   "execution_count": 18,
   "metadata": {},
   "outputs": [
    {
     "name": "stdout",
     "output_type": "stream",
     "text": [
      "I love Php\n",
      "I love Java\n",
      "I love C\n",
      "I love C++\n",
      "I love C#\n",
      "I love Python\n"
     ]
    }
   ],
   "source": [
    "def lan(x=\"Python\"):\n",
    "    print(\"I love\",x)\n",
    "    \n",
    "lan(\"Php\")\n",
    "lan(\"Java\")\n",
    "lan(\"C\")\n",
    "lan(\"C++\")\n",
    "lan(\"C#\")\n",
    "lan()"
   ]
  },
  {
   "cell_type": "code",
   "execution_count": 22,
   "metadata": {},
   "outputs": [
    {
     "name": "stdout",
     "output_type": "stream",
     "text": [
      "20\n"
     ]
    }
   ],
   "source": [
    "def vol(l=6,b=20,h=2):\n",
    "    print(l*b*h)\n",
    "    \n",
    "vol(10,1)"
   ]
  },
  {
   "cell_type": "code",
   "execution_count": 2,
   "metadata": {},
   "outputs": [
    {
     "name": "stdout",
     "output_type": "stream",
     "text": [
      "Enter r = 4\n",
      "Area of radius 4.0 is 50.26548245743669\n",
      "Area of radius  4.0  is 50.26548245743669\n"
     ]
    }
   ],
   "source": [
    "# Math function\n",
    "import math as m\n",
    "r = float(input(\"Enter r = \"))\n",
    "a = m.pi*m.pow(r,2)\n",
    "print(\"Area of radius \"+str(r)+\" is\"+\" \"+str(a))\n",
    "print(\"Area of radius \",r,\" is\",a)"
   ]
  },
  {
   "cell_type": "code",
   "execution_count": 3,
   "metadata": {},
   "outputs": [
    {
     "data": {
      "text/plain": [
       "1.0"
      ]
     },
     "execution_count": 3,
     "metadata": {},
     "output_type": "execute_result"
    }
   ],
   "source": [
    "x = m.sin(m.pi/2)\n",
    "x"
   ]
  },
  {
   "cell_type": "code",
   "execution_count": 4,
   "metadata": {},
   "outputs": [
    {
     "data": {
      "text/plain": [
       "6.123233995736766e-17"
      ]
     },
     "execution_count": 4,
     "metadata": {},
     "output_type": "execute_result"
    }
   ],
   "source": [
    "y = m.cos(m.pi/2)\n",
    "y"
   ]
  },
  {
   "cell_type": "code",
   "execution_count": 38,
   "metadata": {},
   "outputs": [
    {
     "data": {
      "text/plain": [
       "1.0"
      ]
     },
     "execution_count": 38,
     "metadata": {},
     "output_type": "execute_result"
    }
   ],
   "source": [
    "m.pow(x,2)+m.pow(y,2)"
   ]
  },
  {
   "cell_type": "code",
   "execution_count": 40,
   "metadata": {},
   "outputs": [
    {
     "data": {
      "text/plain": [
       "120"
      ]
     },
     "execution_count": 40,
     "metadata": {},
     "output_type": "execute_result"
    }
   ],
   "source": [
    "m.factorial(5)"
   ]
  },
  {
   "cell_type": "code",
   "execution_count": 41,
   "metadata": {},
   "outputs": [
    {
     "data": {
      "text/plain": [
       "3.0"
      ]
     },
     "execution_count": 41,
     "metadata": {},
     "output_type": "execute_result"
    }
   ],
   "source": [
    "x = 27\n",
    "m.pow(x,1/3)"
   ]
  },
  {
   "cell_type": "code",
   "execution_count": null,
   "metadata": {},
   "outputs": [
    {
     "name": "stdout",
     "output_type": "stream",
     "text": [
      "Enter p = 13123\n",
      "Enter t = 3\n",
      "Enter r = 4\n",
      "The value of i is =  157476\n",
      "Enter p = 12312321\n",
      "Enter t = 4\n",
      "Enter r = 2\n",
      "The value of i is =  98498568\n"
     ]
    }
   ],
   "source": [
    "def cal():\n",
    "    p = int(input(\"Enter p = \"))\n",
    "    t = int(input(\"Enter t = \"))\n",
    "    r = int(input(\"Enter r = \"))\n",
    "    i = p*t*r\n",
    "    print(\"The value of i is = \",i)\n",
    "    cal()\n",
    "\n",
    "cal()"
   ]
  },
  {
   "cell_type": "code",
   "execution_count": 1,
   "metadata": {},
   "outputs": [
    {
     "name": "stdout",
     "output_type": "stream",
     "text": [
      "Enter p = 1000\n",
      "Enter t = 5\n",
      "Enter r = 7\n",
      "The value of i is =  35000\n",
      "enter y for more operation = y\n",
      "Enter p = 2000\n",
      "Enter t = 6\n",
      "Enter r = 8\n",
      "The value of i is =  96000\n",
      "enter y for more operation = hjgjhhj\n"
     ]
    }
   ],
   "source": [
    "def cal():\n",
    "    p = int(input(\"Enter p = \"))\n",
    "    t = int(input(\"Enter t = \"))\n",
    "    r = int(input(\"Enter r = \"))\n",
    "    i = p*t*r\n",
    "    print(\"The value of i is = \",i)\n",
    "    x = input(\"enter y for more operation = \")\n",
    "    if x =='y': \n",
    "        cal()\n",
    "\n",
    "cal()"
   ]
  },
  {
   "cell_type": "code",
   "execution_count": null,
   "metadata": {},
   "outputs": [],
   "source": []
  }
 ],
 "metadata": {
  "kernelspec": {
   "display_name": "Python 3",
   "language": "python",
   "name": "python3"
  },
  "language_info": {
   "codemirror_mode": {
    "name": "ipython",
    "version": 3
   },
   "file_extension": ".py",
   "mimetype": "text/x-python",
   "name": "python",
   "nbconvert_exporter": "python",
   "pygments_lexer": "ipython3",
   "version": "3.7.1"
  }
 },
 "nbformat": 4,
 "nbformat_minor": 2
}
