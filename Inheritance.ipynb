{
 "cells": [
  {
   "cell_type": "code",
   "execution_count": 1,
   "metadata": {},
   "outputs": [],
   "source": [
    "class A:\n",
    "    pass\n",
    "class B(A):\n",
    "    pass\n",
    "\n",
    "obj1=B()\n"
   ]
  },
  {
   "cell_type": "code",
   "execution_count": 2,
   "metadata": {},
   "outputs": [],
   "source": [
    "class A:\n",
    "    pass\n",
    "class B(A):\n",
    "    pass\n",
    "class C(B):\n",
    "    pass\n",
    "\n",
    "obj1=C()\n"
   ]
  },
  {
   "cell_type": "code",
   "execution_count": 3,
   "metadata": {},
   "outputs": [],
   "source": [
    "class A:\n",
    "    pass\n",
    "class B:\n",
    "    pass\n",
    "\n",
    "class C(A,B):\n",
    "    pass\n",
    "\n",
    "obj1=C()"
   ]
  },
  {
   "cell_type": "code",
   "execution_count": 4,
   "metadata": {},
   "outputs": [
    {
     "name": "stdout",
     "output_type": "stream",
     "text": [
      "Ram Kathmandu\n"
     ]
    }
   ],
   "source": [
    "class Info:\n",
    "    def __init__(self,name,add):\n",
    "        self.name = name\n",
    "        self.add = add\n",
    "    \n",
    "class Infos(Info):\n",
    "    def info(self):\n",
    "        print(self.name,self.add)\n",
    "\n",
    "obj = Infos(\"Ram\",\"Kathmandu\")\n",
    "obj.info()"
   ]
  },
  {
   "cell_type": "code",
   "execution_count": 8,
   "metadata": {},
   "outputs": [
    {
     "name": "stdout",
     "output_type": "stream",
     "text": [
      "Kathmandu Ram\n",
      "Ram Kathmandu\n"
     ]
    }
   ],
   "source": [
    "class Info:\n",
    "    def __init__(self,name,add):\n",
    "        self.name = name\n",
    "        self.add = add\n",
    "    def info(self):\n",
    "        print(self.add,self.name)\n",
    "        \n",
    "class Infos(Info):\n",
    "    def infos(self):\n",
    "        print(self.name,self.add)\n",
    "\n",
    "obj = Infos(\"Ram\",\"Kathmandu\")\n",
    "obj.info()\n",
    "obj.infos()"
   ]
  },
  {
   "cell_type": "code",
   "execution_count": 14,
   "metadata": {},
   "outputs": [
    {
     "name": "stdout",
     "output_type": "stream",
     "text": [
      "Ram\n",
      "Kathmandu Ram\n",
      "Hello my name is Ram.I am from Kathmandu\n"
     ]
    }
   ],
   "source": [
    "class Info:\n",
    "    def __init__(self,name):\n",
    "        self.name = name\n",
    "        \n",
    "    def info(self):\n",
    "        print(self.name)\n",
    "        \n",
    "class Infos(Info):\n",
    "    def __init__(self,name,add):\n",
    "        self.add = add\n",
    "        Info.__init__(self,name)\n",
    "        \n",
    "    def infos(self):\n",
    "        print(self.add,self.name)\n",
    "\n",
    "obj = Infos(\"Ram\",\"Kathmandu\")\n",
    "obj.info()\n",
    "obj.infos()\n",
    "print(f\"Hello my name is {obj.name}.I am from {obj.add}\")"
   ]
  },
  {
   "cell_type": "code",
   "execution_count": 16,
   "metadata": {},
   "outputs": [
    {
     "name": "stdout",
     "output_type": "stream",
     "text": [
      "Ram\n",
      "Kathmandu Ram 20\n",
      "Hello my name is Ram.I am from Kathmandu. Now I am 30\n"
     ]
    }
   ],
   "source": [
    "class Info:\n",
    "    def __init__(self,name):\n",
    "        self.name = name\n",
    "        \n",
    "    def info(self):\n",
    "        print(self.name)\n",
    "        \n",
    "class Infos(Info):\n",
    "    def __init__(self,name,add):\n",
    "        self.add = add\n",
    "        Info.__init__(self,name)\n",
    "        \n",
    "    def infos(self,age):\n",
    "        print(self.add,self.name,age)\n",
    "        \n",
    "    def full_info(self,age):\n",
    "        print(f\"Hello my name is {self.name}.I am from {self.add}. Now I am {age}\")\n",
    "\n",
    "obj = Infos(\"Ram\",\"Kathmandu\")\n",
    "obj.info()\n",
    "obj.infos(20)\n",
    "obj.full_info(30)"
   ]
  },
  {
   "cell_type": "code",
   "execution_count": 23,
   "metadata": {},
   "outputs": [
    {
     "name": "stdout",
     "output_type": "stream",
     "text": [
      "Ram\n",
      "Kathmandu Ram 20\n",
      "Hello my name is Ram.I am from Kathmandu. Now I am 30. My no is 9845665567\n"
     ]
    }
   ],
   "source": [
    "# super()\n",
    "class Info:\n",
    "    def __init__(self,name):\n",
    "        self.name = name\n",
    "        \n",
    "    def info(self):\n",
    "        print(self.name)\n",
    "        \n",
    "    def phone(self):\n",
    "        return 9845665567\n",
    "    \n",
    "class Infos(Info):\n",
    "    def __init__(self,name,add):\n",
    "        self.add = add\n",
    "        Info.__init__(self,name)\n",
    "        \n",
    "    def infos(self,age):\n",
    "        print(self.add,self.name,age)\n",
    "        \n",
    "    def full_info(self,age):\n",
    "        print(f\"Hello my name is {self.name}.I am from {self.add}. Now I am {age}. My no is {super().phone()}\")\n",
    "\n",
    "obj = Infos(\"Ram\",\"Kathmandu\")\n",
    "obj.info()\n",
    "obj.infos(20)\n",
    "obj.full_info(30)"
   ]
  },
  {
   "cell_type": "code",
   "execution_count": 1,
   "metadata": {},
   "outputs": [
    {
     "name": "stdout",
     "output_type": "stream",
     "text": [
      "Ram\n",
      "Kathmandu Ram 20\n",
      "Nepal\n",
      "USA\n",
      "Hello my name is Ram.I am from Kathmandu. Now I am 30. My no is 9845665567\n"
     ]
    }
   ],
   "source": [
    "# super()\n",
    "class Info:\n",
    "    def __init__(self,name):\n",
    "        self.name = name\n",
    "        \n",
    "    def info(self):\n",
    "        print(self.name)\n",
    "        \n",
    "    def phone(self):\n",
    "        return 9845665567\n",
    "    def country(self):\n",
    "        print(\"Nepal\")\n",
    "    \n",
    "class Infos(Info):\n",
    "    def __init__(self,name,add):\n",
    "        self.add = add\n",
    "        Info.__init__(self,name)\n",
    "        \n",
    "    def infos(self,age):\n",
    "        print(self.add,self.name,age)\n",
    "        \n",
    "    def full_info(self,age):\n",
    "        phone_no = super().phone()\n",
    "        print(f\"Hello my name is {self.name}.I am from {self.add}. Now I am {age}. My no is {phone_no}\")\n",
    "    \n",
    "    def callingfunction(self):\n",
    "        super().country()\n",
    "        \n",
    "obj = Infos(\"Ram\",\"Kathmandu\")\n",
    "obj.info()\n",
    "obj.infos(20)\n",
    "obj.country()\n",
    "obj.callingfunction()\n",
    "obj.full_info(30)"
   ]
  },
  {
   "cell_type": "code",
   "execution_count": 3,
   "metadata": {},
   "outputs": [
    {
     "name": "stdout",
     "output_type": "stream",
     "text": [
      "Ram\n",
      "30\n"
     ]
    }
   ],
   "source": [
    "# public attributes\n",
    "class Info:\n",
    "    def __init__(self,name,age):\n",
    "        self.name=name\n",
    "        self.age = age\n",
    "obj = Info(\"Ram\",30)\n",
    "print(obj.name)\n",
    "print(obj.age)"
   ]
  },
  {
   "cell_type": "code",
   "execution_count": 5,
   "metadata": {},
   "outputs": [
    {
     "name": "stdout",
     "output_type": "stream",
     "text": [
      "Ram\n",
      "30\n"
     ]
    }
   ],
   "source": [
    "# protected attributes\n",
    "class Info:\n",
    "    def __init__(self,name,age):\n",
    "        self._name=name\n",
    "        self._age = age\n",
    "        \n",
    "obj = Info(\"Ram\",30)\n",
    "print(obj._name)\n",
    "print(obj._age)"
   ]
  },
  {
   "cell_type": "code",
   "execution_count": 8,
   "metadata": {},
   "outputs": [
    {
     "ename": "AttributeError",
     "evalue": "'Info' object has no attribute 'name'",
     "output_type": "error",
     "traceback": [
      "\u001b[1;31m---------------------------------------------------------------------------\u001b[0m",
      "\u001b[1;31mAttributeError\u001b[0m                            Traceback (most recent call last)",
      "\u001b[1;32m<ipython-input-8-621b69abdd45>\u001b[0m in \u001b[0;36m<module>\u001b[1;34m\u001b[0m\n\u001b[0;32m      6\u001b[0m \u001b[1;33m\u001b[0m\u001b[0m\n\u001b[0;32m      7\u001b[0m \u001b[0mobj\u001b[0m \u001b[1;33m=\u001b[0m \u001b[0mInfo\u001b[0m\u001b[1;33m(\u001b[0m\u001b[1;34m\"Ram\"\u001b[0m\u001b[1;33m,\u001b[0m\u001b[1;36m30\u001b[0m\u001b[1;33m)\u001b[0m\u001b[1;33m\u001b[0m\u001b[1;33m\u001b[0m\u001b[0m\n\u001b[1;32m----> 8\u001b[1;33m \u001b[0mprint\u001b[0m\u001b[1;33m(\u001b[0m\u001b[0mobj\u001b[0m\u001b[1;33m.\u001b[0m\u001b[0mname\u001b[0m\u001b[1;33m)\u001b[0m\u001b[1;33m\u001b[0m\u001b[1;33m\u001b[0m\u001b[0m\n\u001b[0m\u001b[0;32m      9\u001b[0m \u001b[0mprint\u001b[0m\u001b[1;33m(\u001b[0m\u001b[0mobj\u001b[0m\u001b[1;33m.\u001b[0m\u001b[0mage\u001b[0m\u001b[1;33m)\u001b[0m\u001b[1;33m\u001b[0m\u001b[1;33m\u001b[0m\u001b[0m\n",
      "\u001b[1;31mAttributeError\u001b[0m: 'Info' object has no attribute 'name'"
     ]
    }
   ],
   "source": [
    "# private attributes\n",
    "class Info:\n",
    "    def __init__(self,name,age):\n",
    "        self.__name=name\n",
    "        self.__age = age\n",
    "        \n",
    "obj = Info(\"Ram\",30)\n",
    "print(obj.__name)\n",
    "print(obj.__age)"
   ]
  },
  {
   "cell_type": "code",
   "execution_count": 10,
   "metadata": {},
   "outputs": [
    {
     "name": "stdout",
     "output_type": "stream",
     "text": [
      "Ram\n"
     ]
    }
   ],
   "source": [
    "#Name membling\n",
    "print(obj._Info__name)"
   ]
  },
  {
   "cell_type": "code",
   "execution_count": 14,
   "metadata": {},
   "outputs": [
    {
     "name": "stdout",
     "output_type": "stream",
     "text": [
      "Ram\n",
      "Kathmandu Ram\n",
      "Hello my name is Ram.I am from Kathmandu\n"
     ]
    }
   ],
   "source": [
    "class Info:\n",
    "    def __init__(self,name):\n",
    "        self._name = name #Protected\n",
    "        \n",
    "    def info(self):\n",
    "        print(self._name)\n",
    "        \n",
    "class Infos(Info):\n",
    "    def __init__(self,name,add):\n",
    "        self.add = add\n",
    "        Info.__init__(self,name)\n",
    "        \n",
    "    def infos(self):\n",
    "        print(self.add,self._name)\n",
    "\n",
    "obj = Infos(\"Ram\",\"Kathmandu\")\n",
    "obj.info()\n",
    "obj.infos()\n",
    "print(f\"Hello my name is {obj._name}.I am from {obj.add}\")"
   ]
  },
  {
   "cell_type": "code",
   "execution_count": 19,
   "metadata": {},
   "outputs": [
    {
     "name": "stdout",
     "output_type": "stream",
     "text": [
      "Ram\n",
      "Kathmandu Ram\n",
      "Hello my name is Ram.I am from Kathmandu\n"
     ]
    }
   ],
   "source": [
    "class Info:\n",
    "    def __init__(self,name):\n",
    "        self._name = name #Protected\n",
    "        \n",
    "    def info(self):\n",
    "        print(self._name)\n",
    "        \n",
    "class Infos(Info):\n",
    "    def __init__(self,name,add):\n",
    "        self.__add = add\n",
    "        Info.__init__(self,name)\n",
    "        \n",
    "    def infos(self):\n",
    "        print(self.__add,self._name)\n",
    "\n",
    "obj = Infos(\"Ram\",\"Kathmandu\")\n",
    "obj.info()\n",
    "obj.infos()\n",
    "print(f\"Hello my name is {obj._name}.I am from {obj._Infos__add}\")"
   ]
  },
  {
   "cell_type": "code",
   "execution_count": 21,
   "metadata": {},
   "outputs": [
    {
     "name": "stdout",
     "output_type": "stream",
     "text": [
      "Kathmandu\n",
      "Ram\n",
      "Hello my name is Ram.I am from Kathmandu\n"
     ]
    }
   ],
   "source": [
    "class Info:\n",
    "    def __init__(self,name):\n",
    "        self.__name = name #Protected\n",
    "        \n",
    "    def info(self):\n",
    "        return self.__name\n",
    "        \n",
    "class Infos(Info):\n",
    "    def __init__(self,name,add):\n",
    "        self.__add = add\n",
    "        Info.__init__(self,name)\n",
    "        \n",
    "    def infos(self):\n",
    "        print(self.__add)\n",
    "    \n",
    "    def myname(self):\n",
    "        print(super().info())\n",
    "\n",
    "obj = Infos(\"Ram\",\"Kathmandu\")\n",
    "obj.infos()\n",
    "obj.myname()\n",
    "print(f\"Hello my name is {obj._Info__name}.I am from {obj._Infos__add}\")"
   ]
  },
  {
   "cell_type": "code",
   "execution_count": 24,
   "metadata": {},
   "outputs": [
    {
     "name": "stdout",
     "output_type": "stream",
     "text": [
      "Kathmandu\n",
      "Ram\n",
      "Hello my name is Ram.I am from Kathmandu\n"
     ]
    }
   ],
   "source": [
    "class Info:\n",
    "    def __init__(self,name):\n",
    "        self.__name = name #Protected\n",
    "        global names\n",
    "        names = self.__name\n",
    "        \n",
    "class Infos(Info):\n",
    "    def __init__(self,name,add):\n",
    "        self.__add = add\n",
    "        Info.__init__(self,name)\n",
    "        \n",
    "    def infos(self):\n",
    "        print(self.__add)\n",
    "    \n",
    "    def myname(self):\n",
    "        print(names)\n",
    "\n",
    "obj = Infos(\"Ram\",\"Kathmandu\")\n",
    "obj.infos()\n",
    "obj.myname()\n",
    "print(f\"Hello my name is {names}.I am from {obj._Infos__add}\")"
   ]
  },
  {
   "cell_type": "code",
   "execution_count": null,
   "metadata": {},
   "outputs": [],
   "source": []
  }
 ],
 "metadata": {
  "kernelspec": {
   "display_name": "Python 3",
   "language": "python",
   "name": "python3"
  },
  "language_info": {
   "codemirror_mode": {
    "name": "ipython",
    "version": 3
   },
   "file_extension": ".py",
   "mimetype": "text/x-python",
   "name": "python",
   "nbconvert_exporter": "python",
   "pygments_lexer": "ipython3",
   "version": "3.7.1"
  }
 },
 "nbformat": 4,
 "nbformat_minor": 2
}
