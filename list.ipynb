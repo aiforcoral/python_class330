{
 "cells": [
  {
   "cell_type": "code",
   "execution_count": 2,
   "metadata": {},
   "outputs": [
    {
     "name": "stdout",
     "output_type": "stream",
     "text": [
      "[1, 2, 3, 4, 5, 6, 7, 8, 9]\n",
      "<class 'list'>\n"
     ]
    }
   ],
   "source": [
    "a = [1,2,3,4,5,6,7,8,9]\n",
    "print(a)\n",
    "print(type(a))"
   ]
  },
  {
   "cell_type": "code",
   "execution_count": 3,
   "metadata": {},
   "outputs": [
    {
     "data": {
      "text/plain": [
       "9"
      ]
     },
     "execution_count": 3,
     "metadata": {},
     "output_type": "execute_result"
    }
   ],
   "source": [
    "len(a)"
   ]
  },
  {
   "cell_type": "code",
   "execution_count": 4,
   "metadata": {},
   "outputs": [
    {
     "data": {
      "text/plain": [
       "4"
      ]
     },
     "execution_count": 4,
     "metadata": {},
     "output_type": "execute_result"
    }
   ],
   "source": [
    "b = ['Apple','Ball','Cat','Dog']\n",
    "len(b)"
   ]
  },
  {
   "cell_type": "code",
   "execution_count": 5,
   "metadata": {},
   "outputs": [
    {
     "data": {
      "text/plain": [
       "'Apple'"
      ]
     },
     "execution_count": 5,
     "metadata": {},
     "output_type": "execute_result"
    }
   ],
   "source": [
    "b[0]"
   ]
  },
  {
   "cell_type": "code",
   "execution_count": 7,
   "metadata": {},
   "outputs": [
    {
     "data": {
      "text/plain": [
       "'Dog'"
      ]
     },
     "execution_count": 7,
     "metadata": {},
     "output_type": "execute_result"
    }
   ],
   "source": [
    "b[-1]"
   ]
  },
  {
   "cell_type": "code",
   "execution_count": 8,
   "metadata": {},
   "outputs": [
    {
     "data": {
      "text/plain": [
       "['Apple', 'Ball', 'Cat', 'Dog', 'Fish']"
      ]
     },
     "execution_count": 8,
     "metadata": {},
     "output_type": "execute_result"
    }
   ],
   "source": [
    "b = ['Apple','Ball','Cat','Dog']\n",
    "c = ['Fish']\n",
    "b+c"
   ]
  },
  {
   "cell_type": "code",
   "execution_count": 9,
   "metadata": {},
   "outputs": [
    {
     "data": {
      "text/plain": [
       "['Fish', 'Apple', 'Ball', 'Cat', 'Dog']"
      ]
     },
     "execution_count": 9,
     "metadata": {},
     "output_type": "execute_result"
    }
   ],
   "source": [
    "b = ['Apple','Ball','Cat','Dog']\n",
    "c = ['Fish']\n",
    "c+b"
   ]
  },
  {
   "cell_type": "code",
   "execution_count": 10,
   "metadata": {},
   "outputs": [
    {
     "data": {
      "text/plain": [
       "['Fish', 'Apple', 'Ball', 'Cat', 'Dog', 'Fish']"
      ]
     },
     "execution_count": 10,
     "metadata": {},
     "output_type": "execute_result"
    }
   ],
   "source": [
    "x =['Fish', 'Apple', 'Ball', 'Cat', 'Dog']\n",
    "y = ['Fish']\n",
    "x+y"
   ]
  },
  {
   "cell_type": "code",
   "execution_count": 11,
   "metadata": {},
   "outputs": [
    {
     "data": {
      "text/plain": [
       "['Fish', 'Apple', 'Ball', 'Cat', 'Dog', 'Fish']"
      ]
     },
     "execution_count": 11,
     "metadata": {},
     "output_type": "execute_result"
    }
   ],
   "source": [
    "# operations in list\n",
    "x =['Fish', 'Apple', 'Ball', 'Cat', 'Dog']\n",
    "y = ['Fish']\n",
    "x+y"
   ]
  },
  {
   "cell_type": "code",
   "execution_count": 12,
   "metadata": {},
   "outputs": [
    {
     "data": {
      "text/plain": [
       "['Fish', 'Fish', 'Fish']"
      ]
     },
     "execution_count": 12,
     "metadata": {},
     "output_type": "execute_result"
    }
   ],
   "source": [
    "y = ['Fish']\n",
    "y*3"
   ]
  },
  {
   "cell_type": "code",
   "execution_count": 13,
   "metadata": {},
   "outputs": [
    {
     "data": {
      "text/plain": [
       "[1, 2, 3, 4, 5, 1, 2, 3, 4, 5]"
      ]
     },
     "execution_count": 13,
     "metadata": {},
     "output_type": "execute_result"
    }
   ],
   "source": [
    "y = [1,2,3,4,5]\n",
    "y*2"
   ]
  },
  {
   "cell_type": "code",
   "execution_count": 14,
   "metadata": {},
   "outputs": [
    {
     "data": {
      "text/plain": [
       "['H', 'e', 'l', 'l', 'o']"
      ]
     },
     "execution_count": 14,
     "metadata": {},
     "output_type": "execute_result"
    }
   ],
   "source": [
    "y = list(\"Hello\")\n",
    "y"
   ]
  },
  {
   "cell_type": "code",
   "execution_count": 5,
   "metadata": {},
   "outputs": [
    {
     "name": "stdout",
     "output_type": "stream",
     "text": [
      "Enter n =3\n",
      "ENter name = Ram\n",
      "ENter name = Shyam\n",
      "ENter name = Hari\n",
      "['Ram', 'Shyam', 'Hari']\n"
     ]
    }
   ],
   "source": [
    "#Creating List\n",
    "result = []\n",
    "n = int(input(\"Enter n =\"))\n",
    "for i in range(n):\n",
    "    a = input(\"ENter name = \")\n",
    "    result = result+[a]\n",
    "print(result)"
   ]
  },
  {
   "cell_type": "code",
   "execution_count": 6,
   "metadata": {},
   "outputs": [
    {
     "name": "stdout",
     "output_type": "stream",
     "text": [
      "Ram\n",
      "Shyam\n",
      "Hari\n"
     ]
    }
   ],
   "source": [
    "#Reading value\n",
    "for i in result:\n",
    "    print(i)"
   ]
  },
  {
   "cell_type": "code",
   "execution_count": 24,
   "metadata": {},
   "outputs": [
    {
     "data": {
      "text/plain": [
       "['ram', 'Shyam', 'Hari']"
      ]
     },
     "execution_count": 24,
     "metadata": {},
     "output_type": "execute_result"
    }
   ],
   "source": [
    "x = ['Ram', 'Shyam', 'Hari']\n",
    "x[0]='ram'\n",
    "x"
   ]
  },
  {
   "cell_type": "code",
   "execution_count": 25,
   "metadata": {},
   "outputs": [
    {
     "data": {
      "text/plain": [
       "['ram', 'Hari']"
      ]
     },
     "execution_count": 25,
     "metadata": {},
     "output_type": "execute_result"
    }
   ],
   "source": [
    "del x[1]\n",
    "x"
   ]
  },
  {
   "cell_type": "code",
   "execution_count": 9,
   "metadata": {},
   "outputs": [
    {
     "data": {
      "text/plain": [
       "['Ram', 23, 'Kathmandu']"
      ]
     },
     "execution_count": 9,
     "metadata": {},
     "output_type": "execute_result"
    }
   ],
   "source": [
    "a = [\"Ram\"]\n",
    "b = [23]\n",
    "c = ['Kathmandu']\n",
    "a+b+c"
   ]
  },
  {
   "cell_type": "code",
   "execution_count": 11,
   "metadata": {},
   "outputs": [
    {
     "name": "stdout",
     "output_type": "stream",
     "text": [
      "No of rows = 2\n",
      "Enter name = Ram\n",
      "Enter age 45\n",
      "Enter add = Kathmandu\n",
      "Enter name = Shyam\n",
      "Enter age 34\n",
      "Enter add = Bara\n",
      "Ram 45 Kathmandu\n",
      "Shyam 34 Bara\n",
      "\n"
     ]
    }
   ],
   "source": [
    "#Value entry\n",
    "s = \"\"\n",
    "n = int(input(\"No of rows = \"))\n",
    "for i in range(n):\n",
    "    name = input(\"Enter name = \")\n",
    "    age = int(input(\"Enter age \"))\n",
    "    add = input(\"Enter add = \")\n",
    "    output = f\"{name} {age} {add}\\n\"\n",
    "    s = s+output\n",
    "print(s)"
   ]
  },
  {
   "cell_type": "code",
   "execution_count": 15,
   "metadata": {},
   "outputs": [
    {
     "data": {
      "text/plain": [
       "['Ram 45 Kathmandu', 'Shyam 34 Bara', '']"
      ]
     },
     "execution_count": 15,
     "metadata": {},
     "output_type": "execute_result"
    }
   ],
   "source": [
    "y = s.split('\\n')\n",
    "y"
   ]
  },
  {
   "cell_type": "code",
   "execution_count": 18,
   "metadata": {},
   "outputs": [
    {
     "data": {
      "text/plain": [
       "['Ram', '45', 'Kathmandu']"
      ]
     },
     "execution_count": 18,
     "metadata": {},
     "output_type": "execute_result"
    }
   ],
   "source": [
    "z = y[0].split()"
   ]
  },
  {
   "cell_type": "code",
   "execution_count": null,
   "metadata": {},
   "outputs": [],
   "source": [
    "name = z[0]\n",
    "age = z[1]\n",
    "add = z[2]"
   ]
  },
  {
   "cell_type": "code",
   "execution_count": 39,
   "metadata": {},
   "outputs": [
    {
     "name": "stdout",
     "output_type": "stream",
     "text": [
      "No of rows = 2\n",
      "Enter name = Ram\n",
      "Enter age 45\n",
      "Enter add = Kathmandu\n",
      "Enter name = Shyam\n",
      "Enter age 34\n",
      "Enter add = Bara\n",
      "Ram 45 Kathmandu\n",
      "Shyam 34 Bara\n",
      "\n"
     ]
    }
   ],
   "source": [
    "#Value entry\n",
    "s = \"\"\n",
    "n = int(input(\"No of rows = \"))\n",
    "for i in range(n):\n",
    "    name = input(\"Enter name = \")\n",
    "    age = int(input(\"Enter age \"))\n",
    "    add = input(\"Enter add = \")\n",
    "    output = f\"{name} {age} {add}\\n\"\n",
    "    s = s+output\n",
    "print(s)"
   ]
  },
  {
   "cell_type": "code",
   "execution_count": 40,
   "metadata": {},
   "outputs": [
    {
     "name": "stdout",
     "output_type": "stream",
     "text": [
      "['Ram 45 Kathmandu', 'Shyam 34 Bara', '']\n"
     ]
    }
   ],
   "source": [
    "y = s.split('\\n')\n",
    "print(y)\n"
   ]
  },
  {
   "cell_type": "code",
   "execution_count": 41,
   "metadata": {},
   "outputs": [
    {
     "data": {
      "text/plain": [
       "['Ram', '45', 'Kathmandu']"
      ]
     },
     "execution_count": 41,
     "metadata": {},
     "output_type": "execute_result"
    }
   ],
   "source": [
    "x = y[0]\n",
    "x.split()"
   ]
  },
  {
   "cell_type": "code",
   "execution_count": 43,
   "metadata": {},
   "outputs": [
    {
     "name": "stdout",
     "output_type": "stream",
     "text": [
      "Enter i = 1\n",
      "['Shyam', '34', 'Bara']\n"
     ]
    }
   ],
   "source": [
    "i = int(input(\"Enter i = \"))\n",
    "z = y[i].split()\n",
    "print(z)\n",
    "# name = z[0]\n",
    "# age = z[1]\n",
    "# add = z[2]\n",
    "# print(\"the info is \",name,age,add)"
   ]
  },
  {
   "cell_type": "code",
   "execution_count": 35,
   "metadata": {},
   "outputs": [
    {
     "data": {
      "text/plain": [
       "str"
      ]
     },
     "execution_count": 35,
     "metadata": {},
     "output_type": "execute_result"
    }
   ],
   "source": [
    "x = ['Ram 56 Kathmandu', 'Shyam 56 Patan', '']\n",
    "type(x[0])"
   ]
  },
  {
   "cell_type": "code",
   "execution_count": 37,
   "metadata": {},
   "outputs": [
    {
     "data": {
      "text/plain": [
       "['Ram', '56', 'Kathmandu']"
      ]
     },
     "execution_count": 37,
     "metadata": {},
     "output_type": "execute_result"
    }
   ],
   "source": [
    "y = x[0]\n",
    "y.split()"
   ]
  },
  {
   "cell_type": "code",
   "execution_count": 44,
   "metadata": {},
   "outputs": [
    {
     "name": "stdout",
     "output_type": "stream",
     "text": [
      "Yes\n"
     ]
    }
   ],
   "source": [
    "# search count\n",
    "a = ['Ram','Shyam','Ram','Hari']\n",
    "if 'Ram' in a:\n",
    "    print(\"Yes\")"
   ]
  },
  {
   "cell_type": "code",
   "execution_count": 46,
   "metadata": {},
   "outputs": [
    {
     "name": "stdout",
     "output_type": "stream",
     "text": [
      "Yes 2\n"
     ]
    }
   ],
   "source": [
    "a = ['Ram','Shyam','Ram','Hari']\n",
    "if 'Ram' in a:\n",
    "    print(\"Yes\",a.count('Ram'))\n",
    "else:\n",
    "    print(\"No\")"
   ]
  },
  {
   "cell_type": "code",
   "execution_count": 48,
   "metadata": {},
   "outputs": [
    {
     "name": "stdout",
     "output_type": "stream",
     "text": [
      "Enter n =5\n",
      "ENter a = 23\n",
      "ENter a = 65\n",
      "ENter a = 243\n",
      "ENter a = 7\n",
      "ENter a = 3\n",
      "[23, 65, 243, 7, 3]\n",
      "The min value is= 3\n",
      "The max value is= 243\n",
      "The sum value is= 341\n",
      "The average value is= 68.2\n"
     ]
    }
   ],
   "source": [
    "#Creating List\n",
    "result = []\n",
    "n = int(input(\"Enter n =\"))\n",
    "for i in range(n):\n",
    "    a = int(input(\"ENter a = \"))\n",
    "    result = result+[a]\n",
    "print(result)\n",
    "print(\"The min value is=\",min(result))\n",
    "print(\"The max value is=\",max(result))\n",
    "print(\"The sum value is=\",sum(result))\n",
    "print(\"The average value is=\",sum(result)/n)"
   ]
  },
  {
   "cell_type": "code",
   "execution_count": 49,
   "metadata": {},
   "outputs": [],
   "source": [
    "# sorting()\n",
    "a = [43,23,567,35,768,43]\n",
    "b = ['zebra','Xray','apple','1Ball','.cat']\n",
    "a.sort()"
   ]
  },
  {
   "cell_type": "code",
   "execution_count": 50,
   "metadata": {},
   "outputs": [
    {
     "data": {
      "text/plain": [
       "[23, 35, 43, 43, 567, 768]"
      ]
     },
     "execution_count": 50,
     "metadata": {},
     "output_type": "execute_result"
    }
   ],
   "source": [
    "a"
   ]
  },
  {
   "cell_type": "code",
   "execution_count": 51,
   "metadata": {},
   "outputs": [],
   "source": [
    "a.reverse()"
   ]
  },
  {
   "cell_type": "code",
   "execution_count": 52,
   "metadata": {},
   "outputs": [
    {
     "data": {
      "text/plain": [
       "[768, 567, 43, 43, 35, 23]"
      ]
     },
     "execution_count": 52,
     "metadata": {},
     "output_type": "execute_result"
    }
   ],
   "source": [
    "a"
   ]
  },
  {
   "cell_type": "code",
   "execution_count": 53,
   "metadata": {},
   "outputs": [
    {
     "data": {
      "text/plain": [
       "['.cat', '1Ball', 'Xray', 'apple', 'zebra']"
      ]
     },
     "execution_count": 53,
     "metadata": {},
     "output_type": "execute_result"
    }
   ],
   "source": [
    "b.sort()\n",
    "b"
   ]
  },
  {
   "cell_type": "code",
   "execution_count": 54,
   "metadata": {},
   "outputs": [
    {
     "data": {
      "text/plain": [
       "[23, 35, 43, 43, 567, 768]"
      ]
     },
     "execution_count": 54,
     "metadata": {},
     "output_type": "execute_result"
    }
   ],
   "source": [
    "a = [43,23,567,35,768,43]\n",
    "a.sort()\n",
    "a"
   ]
  },
  {
   "cell_type": "code",
   "execution_count": 15,
   "metadata": {},
   "outputs": [
    {
     "name": "stdout",
     "output_type": "stream",
     "text": [
      "[23, 35, 43, 43, 567, 768]\n"
     ]
    },
    {
     "data": {
      "text/plain": [
       "[43, 23, 567, 35, 768, 43]"
      ]
     },
     "execution_count": 15,
     "metadata": {},
     "output_type": "execute_result"
    }
   ],
   "source": [
    "a = [43,23,567,35,768,43]\n",
    "b = sorted(a)\n",
    "print(b)\n",
    "a"
   ]
  },
  {
   "cell_type": "code",
   "execution_count": 59,
   "metadata": {},
   "outputs": [
    {
     "name": "stdout",
     "output_type": "stream",
     "text": [
      "Enter n3\n",
      "Enter fruits name ffgdfgdf\n",
      "Enter fruits name xfdgdf\n",
      "Enter fruits name asdsdsfdsf\n",
      "['asdsdsfdsf', 'ffgdfgdf', 'xfdgdf']\n"
     ]
    }
   ],
   "source": [
    "result = []\n",
    "n = int(input(\"Enter n\"))\n",
    "for i in range(n):\n",
    "    fruits = input('Enter fruits name ')\n",
    "    result = result + [fruits]\n",
    "a = sorted(result)\n",
    "print(a)"
   ]
  },
  {
   "cell_type": "code",
   "execution_count": 58,
   "metadata": {},
   "outputs": [
    {
     "name": "stdout",
     "output_type": "stream",
     "text": [
      "Enter n3\n",
      "Enter fruits name hdgdfgdf\n",
      "Enter fruits name cgdgdfg\n",
      "Enter fruits name asdsfsdf\n",
      "['asdsfsdf', 'cgdgdfg', 'hdgdfgdf']\n"
     ]
    }
   ],
   "source": [
    "result = []\n",
    "n = int(input(\"Enter n\"))\n",
    "for i in range(n):\n",
    "    fruits = input('Enter fruits name ')\n",
    "    result = result + [fruits]\n",
    "    result.sort()\n",
    "print(result)"
   ]
  },
  {
   "cell_type": "code",
   "execution_count": 3,
   "metadata": {},
   "outputs": [
    {
     "data": {
      "text/plain": [
       "['Apple', 'Ball']"
      ]
     },
     "execution_count": 3,
     "metadata": {},
     "output_type": "execute_result"
    }
   ],
   "source": [
    "# append,remove,insert,clear\n",
    "x = []\n",
    "a = 'Apple'\n",
    "b = 'Ball'\n",
    "x.append(a)\n",
    "x.append(b)\n",
    "x"
   ]
  },
  {
   "cell_type": "code",
   "execution_count": 4,
   "metadata": {},
   "outputs": [
    {
     "data": {
      "text/plain": [
       "['Ant', 'Apple', 'Ball']"
      ]
     },
     "execution_count": 4,
     "metadata": {},
     "output_type": "execute_result"
    }
   ],
   "source": [
    "x = ['Apple', 'Ball']\n",
    "x.insert(0,'Ant')\n",
    "x"
   ]
  },
  {
   "cell_type": "code",
   "execution_count": 5,
   "metadata": {},
   "outputs": [
    {
     "data": {
      "text/plain": [
       "['Ant', 'Ball']"
      ]
     },
     "execution_count": 5,
     "metadata": {},
     "output_type": "execute_result"
    }
   ],
   "source": [
    "x = ['Apple', 'Ball']\n",
    "x[0]='Ant'\n",
    "x"
   ]
  },
  {
   "cell_type": "code",
   "execution_count": 7,
   "metadata": {},
   "outputs": [
    {
     "data": {
      "text/plain": [
       "['Ant', 'Apple', 'A', 'Ball']"
      ]
     },
     "execution_count": 7,
     "metadata": {},
     "output_type": "execute_result"
    }
   ],
   "source": [
    "x = ['Ant', 'Apple', 'Ball']\n",
    "x.insert(-1,'A')\n",
    "x"
   ]
  },
  {
   "cell_type": "code",
   "execution_count": 8,
   "metadata": {},
   "outputs": [
    {
     "data": {
      "text/plain": [
       "['Apple', 'A', 'Ball']"
      ]
     },
     "execution_count": 8,
     "metadata": {},
     "output_type": "execute_result"
    }
   ],
   "source": [
    "x = ['Ant', 'Apple', 'A', 'Ball']\n",
    "del x[0]\n",
    "x"
   ]
  },
  {
   "cell_type": "code",
   "execution_count": 9,
   "metadata": {},
   "outputs": [],
   "source": [
    "x = ['Ant', 'Apple', 'A', 'Ball']\n",
    "x.remove('Apple')"
   ]
  },
  {
   "cell_type": "code",
   "execution_count": 10,
   "metadata": {},
   "outputs": [
    {
     "data": {
      "text/plain": [
       "['Ant', 'A', 'Ball']"
      ]
     },
     "execution_count": 10,
     "metadata": {},
     "output_type": "execute_result"
    }
   ],
   "source": [
    "x"
   ]
  },
  {
   "cell_type": "code",
   "execution_count": 12,
   "metadata": {},
   "outputs": [
    {
     "data": {
      "text/plain": [
       "['Ant', 'A', 'Ball']"
      ]
     },
     "execution_count": 12,
     "metadata": {},
     "output_type": "execute_result"
    }
   ],
   "source": [
    "x = ['Ant', 'Apple', 'A', 'Ball']\n",
    "b = x[1]\n",
    "x.remove(b)\n",
    "x"
   ]
  },
  {
   "cell_type": "code",
   "execution_count": 13,
   "metadata": {},
   "outputs": [
    {
     "data": {
      "text/plain": [
       "['Ant', 'A', 'Ball']"
      ]
     },
     "execution_count": 13,
     "metadata": {},
     "output_type": "execute_result"
    }
   ],
   "source": [
    "x = ['Ant', 'Apple', 'A', 'Ball']\n",
    "b = 'Apple'\n",
    "x.remove(b)\n",
    "x"
   ]
  },
  {
   "cell_type": "code",
   "execution_count": null,
   "metadata": {},
   "outputs": [],
   "source": [
    "b = input(\"Enter value = \")\n",
    "x = ['Ant', 'Apple', 'A', 'Ball']\n",
    "x.remove(b)\n",
    "x"
   ]
  },
  {
   "cell_type": "code",
   "execution_count": 16,
   "metadata": {},
   "outputs": [
    {
     "name": "stdout",
     "output_type": "stream",
     "text": [
      "Enter n3\n",
      "Enter fruits name Apple\n",
      "Enter fruits name Ball\n",
      "Enter fruits name cat\n",
      "['Apple', 'Ball', 'cat']\n"
     ]
    }
   ],
   "source": [
    "result = []\n",
    "n = int(input(\"Enter n\"))\n",
    "for i in range(n):\n",
    "    fruits = input('Enter fruits name ')\n",
    "    result.append(fruits)\n",
    "a = sorted(result)\n",
    "print(a)"
   ]
  },
  {
   "cell_type": "code",
   "execution_count": 2,
   "metadata": {},
   "outputs": [
    {
     "name": "stdout",
     "output_type": "stream",
     "text": [
      "Enter l =6\n",
      "Enter b = 8\n",
      "48\n"
     ]
    }
   ],
   "source": [
    "def cal(x):\n",
    "    v,z = x\n",
    "    print(v*z)\n",
    "\n",
    "l = int(input(\"Enter l =\"))\n",
    "b = int(input(\"Enter b = \"))\n",
    "x = [l,b]\n",
    "cal(x)"
   ]
  },
  {
   "cell_type": "code",
   "execution_count": null,
   "metadata": {},
   "outputs": [],
   "source": [
    "def cal(x):\n",
    "    l = x[0]\n",
    "    b = x[1]\n",
    "    print(l*b)\n",
    "\n",
    "l = int(input(\"Enter l =\"))\n",
    "b = int(input(\"Enter b = \"))\n",
    "x = [l,b]\n",
    "cal(x)"
   ]
  },
  {
   "cell_type": "code",
   "execution_count": 3,
   "metadata": {},
   "outputs": [
    {
     "data": {
      "text/plain": [
       "2"
      ]
     },
     "execution_count": 3,
     "metadata": {},
     "output_type": "execute_result"
    }
   ],
   "source": [
    "# index()\n",
    "x = ['Apple', 'Ball', 'cat']\n",
    "x.index('cat')"
   ]
  },
  {
   "cell_type": "code",
   "execution_count": 5,
   "metadata": {},
   "outputs": [
    {
     "ename": "NameError",
     "evalue": "name 'x' is not defined",
     "output_type": "error",
     "traceback": [
      "\u001b[1;31m---------------------------------------------------------------------------\u001b[0m",
      "\u001b[1;31mNameError\u001b[0m                                 Traceback (most recent call last)",
      "\u001b[1;32m<ipython-input-5-249979420e59>\u001b[0m in \u001b[0;36m<module>\u001b[1;34m\u001b[0m\n\u001b[0;32m      1\u001b[0m \u001b[0mx\u001b[0m \u001b[1;33m=\u001b[0m \u001b[1;33m[\u001b[0m\u001b[1;34m'Apple'\u001b[0m\u001b[1;33m,\u001b[0m \u001b[1;34m'Ball'\u001b[0m\u001b[1;33m,\u001b[0m \u001b[1;34m'cat'\u001b[0m\u001b[1;33m]\u001b[0m\u001b[1;33m\u001b[0m\u001b[1;33m\u001b[0m\u001b[0m\n\u001b[0;32m      2\u001b[0m \u001b[1;32mdel\u001b[0m \u001b[0mx\u001b[0m\u001b[1;33m\u001b[0m\u001b[1;33m\u001b[0m\u001b[0m\n\u001b[1;32m----> 3\u001b[1;33m \u001b[0mx\u001b[0m\u001b[1;33m\u001b[0m\u001b[1;33m\u001b[0m\u001b[0m\n\u001b[0m",
      "\u001b[1;31mNameError\u001b[0m: name 'x' is not defined"
     ]
    }
   ],
   "source": [
    "x = ['Apple', 'Ball', 'cat']\n",
    "del x\n",
    "x"
   ]
  },
  {
   "cell_type": "code",
   "execution_count": 6,
   "metadata": {},
   "outputs": [],
   "source": [
    "x = ['Apple', 'Ball', 'cat']\n",
    "x.clear()"
   ]
  },
  {
   "cell_type": "code",
   "execution_count": 7,
   "metadata": {},
   "outputs": [
    {
     "data": {
      "text/plain": [
       "[]"
      ]
     },
     "execution_count": 7,
     "metadata": {},
     "output_type": "execute_result"
    }
   ],
   "source": [
    "x"
   ]
  },
  {
   "cell_type": "code",
   "execution_count": 8,
   "metadata": {},
   "outputs": [
    {
     "data": {
      "text/plain": [
       "['Apple', 'Ball']"
      ]
     },
     "execution_count": 8,
     "metadata": {},
     "output_type": "execute_result"
    }
   ],
   "source": [
    "# index()\n",
    "x = ['Apple', 'Ball', 'cat']\n",
    "y = x.index('cat')\n",
    "del x[y]\n",
    "x"
   ]
  },
  {
   "cell_type": "code",
   "execution_count": 10,
   "metadata": {},
   "outputs": [
    {
     "name": "stdout",
     "output_type": "stream",
     "text": [
      "ENter value = Apple\n",
      "['Ball', 'Apple', 'Cat', 'Dog']\n",
      "['Ball', 'Cat', 'Dog']\n",
      "['Ball', 'Cat', 'Dog']\n"
     ]
    }
   ],
   "source": [
    "# duplicate value operation\n",
    "x = ['Apple','Ball','Apple','Cat','Dog']\n",
    "y = input(\"ENter value = \")\n",
    "n = x.count(y)\n",
    "for i in range(n):\n",
    "    x.remove(y)\n",
    "    print(x)\n",
    "print(x)"
   ]
  },
  {
   "cell_type": "code",
   "execution_count": 11,
   "metadata": {},
   "outputs": [
    {
     "name": "stdout",
     "output_type": "stream",
     "text": [
      "ENter value = Apple\n",
      "['Ball', 'Apple', 'Cat', 'Dog']\n",
      "['Ball', 'Apple', 'Cat', 'Dog']\n"
     ]
    }
   ],
   "source": [
    "# duplicate value operation\n",
    "x = ['Apple','Ball','Apple','Cat','Dog']\n",
    "y = input(\"ENter value = \")\n",
    "n = x.count(y)\n",
    "for i in range(n-1):\n",
    "    x.remove(y)\n",
    "    print(x)\n",
    "print(x)"
   ]
  },
  {
   "cell_type": "code",
   "execution_count": 17,
   "metadata": {},
   "outputs": [
    {
     "name": "stdout",
     "output_type": "stream",
     "text": [
      "ENter value = Cat\n",
      "3\n"
     ]
    }
   ],
   "source": [
    "# duplicate value operation\n",
    "x = ['Apple','Ball','Apple','Cat','Dog']\n",
    "y = input(\"ENter value = \")\n",
    "n = len(x)\n",
    "for i in range(n):\n",
    "    if x[i]==y:\n",
    "#         print(x.index(y))\n",
    "        print(i)"
   ]
  },
  {
   "cell_type": "code",
   "execution_count": 21,
   "metadata": {},
   "outputs": [
    {
     "name": "stdout",
     "output_type": "stream",
     "text": [
      "ENter value = Apple\n"
     ]
    },
    {
     "data": {
      "text/plain": [
       "['Ball', 'Cat', 'Dog']"
      ]
     },
     "execution_count": 21,
     "metadata": {},
     "output_type": "execute_result"
    }
   ],
   "source": [
    "# duplicate value operation\n",
    "x = ['Apple','Ball','Apple','Cat','Dog']\n",
    "y = input(\"ENter value = \")\n",
    "n = len(x)\n",
    "for i in x:\n",
    "    if i==y:\n",
    "        x.remove(i)\n",
    "x"
   ]
  },
  {
   "cell_type": "code",
   "execution_count": 31,
   "metadata": {},
   "outputs": [
    {
     "name": "stdout",
     "output_type": "stream",
     "text": [
      "ENter value = Apple\n",
      "2\n",
      "['Ball', 'Apple', 'Cat', 'Dog']\n",
      "['Ball', 'Cat', 'Dog']\n"
     ]
    }
   ],
   "source": [
    "# duplicate value operation\n",
    "x = ['Apple','Ball','Apple','Cat','Dog']\n",
    "y = input(\"ENter value = \")\n",
    "n = x.count(y)\n",
    "print(n)\n",
    "for i in range(n):\n",
    "    if x[i]==y:\n",
    "        x.remove(x[i])\n",
    "   \n",
    "        print(x)"
   ]
  },
  {
   "cell_type": "code",
   "execution_count": 4,
   "metadata": {},
   "outputs": [],
   "source": [
    "x = ['Ball', 'Apple', 'Cat', 'Dog']\n",
    "a = x.pop(1)"
   ]
  },
  {
   "cell_type": "code",
   "execution_count": 5,
   "metadata": {},
   "outputs": [
    {
     "data": {
      "text/plain": [
       "['Ball', 'Cat', 'Dog']"
      ]
     },
     "execution_count": 5,
     "metadata": {},
     "output_type": "execute_result"
    }
   ],
   "source": [
    "x "
   ]
  },
  {
   "cell_type": "code",
   "execution_count": 6,
   "metadata": {},
   "outputs": [
    {
     "data": {
      "text/plain": [
       "'Apple'"
      ]
     },
     "execution_count": 6,
     "metadata": {},
     "output_type": "execute_result"
    }
   ],
   "source": [
    "a"
   ]
  },
  {
   "cell_type": "code",
   "execution_count": null,
   "metadata": {},
   "outputs": [],
   "source": []
  }
 ],
 "metadata": {
  "kernelspec": {
   "display_name": "Python 3",
   "language": "python",
   "name": "python3"
  },
  "language_info": {
   "codemirror_mode": {
    "name": "ipython",
    "version": 3
   },
   "file_extension": ".py",
   "mimetype": "text/x-python",
   "name": "python",
   "nbconvert_exporter": "python",
   "pygments_lexer": "ipython3",
   "version": "3.7.1"
  }
 },
 "nbformat": 4,
 "nbformat_minor": 2
}
