{
 "cells": [
  {
   "cell_type": "code",
   "execution_count": 1,
   "metadata": {},
   "outputs": [
    {
     "name": "stdout",
     "output_type": "stream",
     "text": [
      "Hello world\n",
      "<class 'str'>\n"
     ]
    }
   ],
   "source": [
    "a = \"Hello world\"\n",
    "print(a)\n",
    "print(type(a))"
   ]
  },
  {
   "cell_type": "code",
   "execution_count": 2,
   "metadata": {},
   "outputs": [
    {
     "name": "stdout",
     "output_type": "stream",
     "text": [
      "Enter a = 5\n"
     ]
    },
    {
     "data": {
      "text/plain": [
       "str"
      ]
     },
     "execution_count": 2,
     "metadata": {},
     "output_type": "execute_result"
    }
   ],
   "source": [
    "a = input(\"Enter a = \")\n",
    "type(a)"
   ]
  },
  {
   "cell_type": "code",
   "execution_count": 5,
   "metadata": {},
   "outputs": [
    {
     "name": "stdout",
     "output_type": "stream",
     "text": [
      "H\n",
      "w\n",
      "d\n"
     ]
    }
   ],
   "source": [
    "a = \"Hello world\"\n",
    "print(a[0])\n",
    "print(a[6])\n",
    "print(a[-1])"
   ]
  },
  {
   "cell_type": "code",
   "execution_count": 6,
   "metadata": {},
   "outputs": [
    {
     "name": "stdout",
     "output_type": "stream",
     "text": [
      "Hello wo\n"
     ]
    }
   ],
   "source": [
    "a = \"Hello world\"\n",
    "print(a[0:8])"
   ]
  },
  {
   "cell_type": "code",
   "execution_count": 9,
   "metadata": {},
   "outputs": [
    {
     "name": "stdout",
     "output_type": "stream",
     "text": [
      "Hlowr\n"
     ]
    }
   ],
   "source": [
    "a = \"Hello world\"\n",
    "print(a[0:10:2])"
   ]
  },
  {
   "cell_type": "code",
   "execution_count": 12,
   "metadata": {},
   "outputs": [
    {
     "data": {
      "text/plain": [
       "'Hello World'"
      ]
     },
     "execution_count": 12,
     "metadata": {},
     "output_type": "execute_result"
    }
   ],
   "source": [
    "a = \"Hello \"\n",
    "b = \"World\"\n",
    "c = a+b\n",
    "c"
   ]
  },
  {
   "cell_type": "code",
   "execution_count": 17,
   "metadata": {},
   "outputs": [
    {
     "data": {
      "text/plain": [
       "'Hello '"
      ]
     },
     "execution_count": 17,
     "metadata": {},
     "output_type": "execute_result"
    }
   ],
   "source": [
    "x = c[0:6]\n",
    "x"
   ]
  },
  {
   "cell_type": "code",
   "execution_count": 18,
   "metadata": {},
   "outputs": [
    {
     "data": {
      "text/plain": [
       "'World'"
      ]
     },
     "execution_count": 18,
     "metadata": {},
     "output_type": "execute_result"
    }
   ],
   "source": [
    "y = c[6:]\n",
    "y"
   ]
  },
  {
   "cell_type": "code",
   "execution_count": 19,
   "metadata": {},
   "outputs": [],
   "source": [
    "a = \"Ram\"\n",
    "b = 17\n",
    "c = \"Ktm\"\n",
    "d =a+str(b)+c"
   ]
  },
  {
   "cell_type": "code",
   "execution_count": 22,
   "metadata": {},
   "outputs": [
    {
     "name": "stdout",
     "output_type": "stream",
     "text": [
      "Enter name = Ram\n",
      "Enter age = 45\n",
      "ENter address =Ktm\n",
      "Hello my name is Ram.I am 45.I am from Ktm\n",
      "Hello my name is Ram.I am 45.I am from Ktm\n"
     ]
    }
   ],
   "source": [
    "#string formatting\n",
    "name = input(\"Enter name = \")\n",
    "age = input(\"Enter age = \")\n",
    "add = input(\"ENter address =\")\n",
    "\n",
    "output = f\"Hello my name is {name}.I am {age}.I am from {add}\"\n",
    "print(f\"Hello my name is {name} .I am {age}.I am from {add}\")\n",
    "print(output)"
   ]
  },
  {
   "cell_type": "code",
   "execution_count": 23,
   "metadata": {},
   "outputs": [
    {
     "name": "stdout",
     "output_type": "stream",
     "text": [
      "Yes there is\n"
     ]
    }
   ],
   "source": [
    "# search,count,repalce,upper,lower,loop\n",
    "a = \"hello Pyton . Python is good programming language\"\n",
    "\n",
    "if 'Python' in a:\n",
    "    print(\"Yes there is\")\n",
    "else:\n",
    "    (\"There is not.\")"
   ]
  },
  {
   "cell_type": "code",
   "execution_count": 28,
   "metadata": {},
   "outputs": [
    {
     "name": "stdout",
     "output_type": "stream",
     "text": [
      "Enter what to searchPython\n",
      "Yes there is 2\n"
     ]
    }
   ],
   "source": [
    "# search,count,repalce,upper,lower,loop\n",
    "a = \"hello Python . Python is good programming language\"\n",
    "b = input(\"Enter what to search\")\n",
    "\n",
    "if b in a:\n",
    "    print(\"Yes there is\",a.count(b))\n",
    "else:\n",
    "    (\"There is not.\")"
   ]
  },
  {
   "cell_type": "code",
   "execution_count": 27,
   "metadata": {},
   "outputs": [
    {
     "data": {
      "text/plain": [
       "2"
      ]
     },
     "execution_count": 27,
     "metadata": {},
     "output_type": "execute_result"
    }
   ],
   "source": [
    "a = \"hello Python . Python is good programming language\"\n",
    "a.count('Python')"
   ]
  },
  {
   "cell_type": "code",
   "execution_count": 29,
   "metadata": {},
   "outputs": [
    {
     "data": {
      "text/plain": [
       "'HELLO PYTHON . PYTHON IS GOOD PROGRAMMING LANGUAGE'"
      ]
     },
     "execution_count": 29,
     "metadata": {},
     "output_type": "execute_result"
    }
   ],
   "source": [
    "a = \"hello Python.Python is good programming language\"\n",
    "a.upper()"
   ]
  },
  {
   "cell_type": "code",
   "execution_count": 30,
   "metadata": {},
   "outputs": [
    {
     "data": {
      "text/plain": [
       "'hello python.python is good programming language'"
      ]
     },
     "execution_count": 30,
     "metadata": {},
     "output_type": "execute_result"
    }
   ],
   "source": [
    "a = \"hello Python.Python is good programming language\"\n",
    "\n",
    "a.lower()"
   ]
  },
  {
   "cell_type": "code",
   "execution_count": 35,
   "metadata": {},
   "outputs": [
    {
     "name": "stdout",
     "output_type": "stream",
     "text": [
      "Enter what to search = PyThOn\n",
      "Yes there is 2\n"
     ]
    }
   ],
   "source": [
    "# search,count,repalce,upper,lower,loop\n",
    "a = \"hello Python . python is good programming language\".upper()\n",
    "b = input(\"Enter what to search = \").upper()\n",
    "\n",
    "if b in a:\n",
    "    print(\"Yes there is\",a.count(b))\n",
    "else:\n",
    "    print(\"There is not.\")"
   ]
  },
  {
   "cell_type": "code",
   "execution_count": 40,
   "metadata": {},
   "outputs": [
    {
     "name": "stdout",
     "output_type": "stream",
     "text": [
      "HELLO PYTHON.PYTHON IS GOOD PROGRAMMING LANGUAGE\n",
      "PYTHON\n"
     ]
    }
   ],
   "source": [
    "a = \"hello Python.python is good programming language\".upper()\n",
    "b =\"Python\".upper()\n",
    "print(a)\n",
    "print(b)"
   ]
  },
  {
   "cell_type": "code",
   "execution_count": 41,
   "metadata": {},
   "outputs": [
    {
     "data": {
      "text/plain": [
       "'hello Python . PyThOn is good programming language'"
      ]
     },
     "execution_count": 41,
     "metadata": {},
     "output_type": "execute_result"
    }
   ],
   "source": [
    "a = \"hello Python . python is good programming language\"\n",
    "b = a.replace('python','PyThOn')\n",
    "b"
   ]
  },
  {
   "cell_type": "code",
   "execution_count": 42,
   "metadata": {},
   "outputs": [
    {
     "name": "stdout",
     "output_type": "stream",
     "text": [
      "hello Python . python is good programming language\n"
     ]
    }
   ],
   "source": [
    "print(a)"
   ]
  },
  {
   "cell_type": "code",
   "execution_count": 1,
   "metadata": {},
   "outputs": [
    {
     "name": "stdout",
     "output_type": "stream",
     "text": [
      "Enter search = Python\n",
      "Enter replace = java\n"
     ]
    },
    {
     "data": {
      "text/plain": [
       "'hello java . python is good programming language'"
      ]
     },
     "execution_count": 1,
     "metadata": {},
     "output_type": "execute_result"
    }
   ],
   "source": [
    "search = input(\"Enter search = \")\n",
    "replace = input(\"Enter replace = \")\n",
    "a = \"hello Python . python is good programming language\"\n",
    "b = a.replace(search,replace)\n",
    "b"
   ]
  },
  {
   "cell_type": "code",
   "execution_count": 2,
   "metadata": {},
   "outputs": [
    {
     "data": {
      "text/plain": [
       "'Ram Shyam Hari  Gita'"
      ]
     },
     "execution_count": 2,
     "metadata": {},
     "output_type": "execute_result"
    }
   ],
   "source": [
    "a = \"Ram Shyam Hari Nita Gita\"\n",
    "b = a.replace('Nita','')\n",
    "b"
   ]
  },
  {
   "cell_type": "code",
   "execution_count": 5,
   "metadata": {},
   "outputs": [
    {
     "data": {
      "text/plain": [
       "['Ram', 'Shyam', 'Hari', 'Nita', 'Gita', 'a']"
      ]
     },
     "execution_count": 5,
     "metadata": {},
     "output_type": "execute_result"
    }
   ],
   "source": [
    "# split()\n",
    "a = \"Ram Shyam Hari Nita Gita\"\n",
    "a.split()"
   ]
  },
  {
   "cell_type": "code",
   "execution_count": 7,
   "metadata": {},
   "outputs": [
    {
     "data": {
      "text/plain": [
       "['Ram', 'Shyam', 'Hari', 'Nita', 'Gita']"
      ]
     },
     "execution_count": 7,
     "metadata": {},
     "output_type": "execute_result"
    }
   ],
   "source": [
    "# split()\n",
    "a = \"Ram.Shyam.Hari.Nita.Gita\"\n",
    "a.split('.')"
   ]
  },
  {
   "cell_type": "code",
   "execution_count": 8,
   "metadata": {},
   "outputs": [
    {
     "name": "stdout",
     "output_type": "stream",
     "text": [
      "No of rows = 2\n",
      "Enter name = Ram\n",
      "Enter age 34\n",
      "Enter add = Kathmandu\n",
      "Enter name = Shya\n",
      "Enter age 45\n",
      "Enter add = Bara\n",
      "Ram 34 Kathmandu\n",
      "Shya 45 Bara\n",
      "\n"
     ]
    }
   ],
   "source": [
    "#Value entry\n",
    "s = \"\"\n",
    "n = int(input(\"No of rows = \"))\n",
    "for i in range(n):\n",
    "    name = input(\"Enter name = \")\n",
    "    age = int(input(\"Enter age \"))\n",
    "    add = input(\"Enter add = \")\n",
    "    output = f\"{name} {age} {add}\\n\"\n",
    "    s = s+output\n",
    "print(s)"
   ]
  },
  {
   "cell_type": "code",
   "execution_count": 16,
   "metadata": {},
   "outputs": [
    {
     "name": "stdout",
     "output_type": "stream",
     "text": [
      "Enter search = Shya\n",
      "Enter replace = Shyam\n"
     ]
    },
    {
     "data": {
      "text/plain": [
       "'Ram 34 Kathmandu\\nShyam 45 Bara\\n'"
      ]
     },
     "execution_count": 16,
     "metadata": {},
     "output_type": "execute_result"
    }
   ],
   "source": [
    "#Update value\n",
    "search = input(\"Enter search = \")\n",
    "replace = input(\"Enter replace = \")\n",
    "a = s\n",
    "b = a.replace(search,replace)\n",
    "print(b)"
   ]
  },
  {
   "cell_type": "code",
   "execution_count": 17,
   "metadata": {},
   "outputs": [
    {
     "name": "stdout",
     "output_type": "stream",
     "text": [
      "Ram 34 Kathmandu\n",
      "Shyam 45 Bara\n",
      "\n"
     ]
    }
   ],
   "source": [
    "#delete value\n",
    "search = input(\"Enter search = \")\n",
    "replace = input(\"Enter replace = \")\n",
    "a = s\n",
    "b = a.replace(search,'')\n",
    "print(b)"
   ]
  },
  {
   "cell_type": "code",
   "execution_count": 19,
   "metadata": {},
   "outputs": [
    {
     "name": "stdout",
     "output_type": "stream",
     "text": [
      "Enter value for search = Shya\n",
      "Yes it is 1\n"
     ]
    }
   ],
   "source": [
    "# Search value\n",
    "search = input(\"Enter value for search = \")\n",
    "if search in s:\n",
    "    print(\"Yes it is\",s.count(search))\n",
    "else:\n",
    "    print(\"No such value there.\")"
   ]
  },
  {
   "cell_type": "code",
   "execution_count": 21,
   "metadata": {},
   "outputs": [
    {
     "data": {
      "text/plain": [
       "['Ram 34 Kathmandu', 'Shya 45 Bara', '']"
      ]
     },
     "execution_count": 21,
     "metadata": {},
     "output_type": "execute_result"
    }
   ],
   "source": [
    "final_data = s.split('\\n')"
   ]
  },
  {
   "cell_type": "code",
   "execution_count": 24,
   "metadata": {},
   "outputs": [
    {
     "data": {
      "text/plain": [
       "['r', 'm 45 K', 'thm', 'ndu.H', 'ri 23 B', 'r', '']"
      ]
     },
     "execution_count": 24,
     "metadata": {},
     "output_type": "execute_result"
    }
   ],
   "source": [
    "x = 'ram 45 Kathmandu.Hari 23 Bara'\n",
    "x.split('a')"
   ]
  },
  {
   "cell_type": "code",
   "execution_count": 26,
   "metadata": {},
   "outputs": [
    {
     "name": "stdout",
     "output_type": "stream",
     "text": [
      "No of rows = 2\n",
      "Enter name = Shyam\n",
      "Enter marks of physics 78\n",
      "Enter marks of chemistry = 89\n",
      "Enter marks of math = 89\n",
      "Enter marks of english = 89\n",
      "Enter marks of nepali  = 90\n",
      "Enter name = Shyam\n",
      "Enter marks of physics 89\n",
      "Enter marks of chemistry = 90\n",
      "Enter marks of math = 98\n",
      "Enter marks of english = 89\n",
      "Enter marks of nepali  = 89\n",
      "1 Shyam 78 89 89 89 90 435 87.0\n",
      "2 Shyam 89 90 98 89 89 455 91.0\n",
      "\n"
     ]
    }
   ],
   "source": [
    "#Value entry\n",
    "s = \"\"\n",
    "n = int(input(\"No of rows = \"))\n",
    "for i in range(1,n+1):\n",
    "    name = input(\"Enter name = \")\n",
    "    physics = int(input(\"Enter marks of physics \"))\n",
    "    chemistry = int(input(\"Enter marks of chemistry = \"))\n",
    "    math = int(input(\"Enter marks of math = \"))\n",
    "    english = int(input(\"Enter marks of english = \"))\n",
    "    nepali = int(input(\"Enter marks of nepali  = \"))\n",
    "    \n",
    "    total = physics+chemistry+math+english+nepali\n",
    "    per = total/5\n",
    "    output = f\"{i} {name} {physics} {chemistry} {math} {english} {nepali} {total} {per}\\n\"\n",
    "    s = s+output\n",
    "print(s)"
   ]
  },
  {
   "cell_type": "code",
   "execution_count": null,
   "metadata": {},
   "outputs": [],
   "source": []
  }
 ],
 "metadata": {
  "kernelspec": {
   "display_name": "Python 3",
   "language": "python",
   "name": "python3"
  },
  "language_info": {
   "codemirror_mode": {
    "name": "ipython",
    "version": 3
   },
   "file_extension": ".py",
   "mimetype": "text/x-python",
   "name": "python",
   "nbconvert_exporter": "python",
   "pygments_lexer": "ipython3",
   "version": "3.7.1"
  }
 },
 "nbformat": 4,
 "nbformat_minor": 2
}
