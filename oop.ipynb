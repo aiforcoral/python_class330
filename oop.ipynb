{
 "cells": [
  {
   "cell_type": "code",
   "execution_count": 1,
   "metadata": {},
   "outputs": [],
   "source": [
    "class Hello:\n",
    "    pass\n",
    "\n",
    "obj = Hello()"
   ]
  },
  {
   "cell_type": "code",
   "execution_count": 3,
   "metadata": {},
   "outputs": [
    {
     "name": "stdout",
     "output_type": "stream",
     "text": [
      "Hello\n"
     ]
    }
   ],
   "source": [
    "class Hello:       #class\n",
    "    print('Hello')\n",
    "\n",
    "obj = Hello()     #object"
   ]
  },
  {
   "cell_type": "code",
   "execution_count": 8,
   "metadata": {},
   "outputs": [
    {
     "name": "stdout",
     "output_type": "stream",
     "text": [
      "Hello World\n"
     ]
    }
   ],
   "source": [
    "class Hello:\n",
    "    def hello(self):\n",
    "        print(\"Hello World\")\n",
    "obj= Hello()\n",
    "obj.hello()"
   ]
  },
  {
   "cell_type": "code",
   "execution_count": 15,
   "metadata": {},
   "outputs": [
    {
     "name": "stdout",
     "output_type": "stream",
     "text": [
      "Hello World\n"
     ]
    }
   ],
   "source": [
    "class Hello:\n",
    "    def hello(self,x):\n",
    "        print(x)\n",
    "obj= Hello()\n",
    "obj.hello(\"Hello World\")"
   ]
  },
  {
   "cell_type": "code",
   "execution_count": 17,
   "metadata": {},
   "outputs": [
    {
     "name": "stdout",
     "output_type": "stream",
     "text": [
      "The volume is= 120\n"
     ]
    }
   ],
   "source": [
    "class Hello:\n",
    "    def volume(self,l,b,h):\n",
    "        print(\"The volume is=\",l*b*h)\n",
    "obj= Hello()\n",
    "obj.volume(4,5,6)"
   ]
  },
  {
   "cell_type": "code",
   "execution_count": 18,
   "metadata": {},
   "outputs": [
    {
     "name": "stdout",
     "output_type": "stream",
     "text": [
      "The volume is= 120\n",
      "The area is =  48\n"
     ]
    }
   ],
   "source": [
    "class Volume:\n",
    "    def volume(self,l,b,h):\n",
    "        print(\"The volume is=\",l*b*h)\n",
    "\n",
    "class Area:\n",
    "    def area(self,l,b):\n",
    "        print(\"The area is = \",l*b)\n",
    "\n",
    "obj1= Volume()\n",
    "obj2=Area()\n",
    "obj1.volume(4,5,6)\n",
    "obj2.area(6,8)"
   ]
  },
  {
   "cell_type": "code",
   "execution_count": 19,
   "metadata": {},
   "outputs": [
    {
     "name": "stdout",
     "output_type": "stream",
     "text": [
      "The volume is= 120\n",
      "The area is =  48\n"
     ]
    }
   ],
   "source": [
    "class Cal:\n",
    "    def volume(self,l,b,h):\n",
    "        print(\"The volume is=\",l*b*h)\n",
    "    def area(self,l,b):\n",
    "        print(\"The area is = \",l*b)\n",
    "\n",
    "obj= Cal()\n",
    "obj.volume(4,5,6)\n",
    "obj.area(6,8)"
   ]
  },
  {
   "cell_type": "code",
   "execution_count": 4,
   "metadata": {},
   "outputs": [
    {
     "name": "stdout",
     "output_type": "stream",
     "text": [
      "120\n",
      "20\n"
     ]
    }
   ],
   "source": [
    "class Cal:\n",
    "    def __init__(self,l,b,h):\n",
    "        self.length = l\n",
    "        self.breadth = b\n",
    "        self.height = h\n",
    "    def volume(self):\n",
    "        print(self.length*self.breadth*self.height)\n",
    "    def area(self):\n",
    "        print(self.length*self.breadth)\n",
    "obj = Cal(4,5,6)\n",
    "\n",
    "obj.volume()\n",
    "obj.area()\n",
    "# print(obj.l,obj.b,obj.h)"
   ]
  },
  {
   "cell_type": "code",
   "execution_count": 5,
   "metadata": {},
   "outputs": [
    {
     "name": "stdout",
     "output_type": "stream",
     "text": [
      "120\n",
      "20\n"
     ]
    }
   ],
   "source": [
    "class Cal:\n",
    "    def __init__(self,l,b,h):\n",
    "        self.length = l\n",
    "        self.breadth = b\n",
    "        self.height = h\n",
    "    def volume(self):\n",
    "        print(self.length*self.breadth*self.height)\n",
    "    def area(this):\n",
    "        print(this.length*this.breadth)\n",
    "obj = Cal(4,5,6)\n",
    "\n",
    "obj.volume()\n",
    "obj.area()\n",
    "# print(obj.l,obj.b,obj.h)"
   ]
  },
  {
   "cell_type": "code",
   "execution_count": 23,
   "metadata": {},
   "outputs": [
    {
     "name": "stdout",
     "output_type": "stream",
     "text": [
      "Enter l = 23\n",
      "Enter b = 34\n",
      "Enter h = 23\n",
      "17986\n",
      "782\n",
      "23 34 23\n"
     ]
    }
   ],
   "source": [
    "class Cal:\n",
    "    def __init__(self):\n",
    "        self.l = int(input(\"Enter l = \"))\n",
    "        self.b = int(input(\"Enter b = \"))\n",
    "        self.h = int(input(\"Enter h = \"))\n",
    "    def volume(self):\n",
    "        print(self.l*self.b*self.h)\n",
    "    def area(self):\n",
    "        print(self.l*self.b)\n",
    "obj = Cal()\n",
    "\n",
    "obj.volume()\n",
    "obj.area()\n",
    "print(obj.l,obj.b,obj.h)"
   ]
  },
  {
   "cell_type": "code",
   "execution_count": null,
   "metadata": {},
   "outputs": [],
   "source": [
    "class Cal:\n",
    "    def __init__(self):\n",
    "        self.l = int(input(\"Enter l = \"))\n",
    "        self.b = int(input(\"Enter b = \"))\n",
    "        self.h = int(input(\"Enter h = \"))\n",
    "    def volume(this):\n",
    "        print(this.l*self.b*self.h)\n",
    "    def area(self):\n",
    "        print(self.l*self.b)\n",
    "obj = Cal()\n",
    "\n",
    "obj.volume()\n",
    "obj.area()\n",
    "print(obj.l,obj.b,obj.h)"
   ]
  },
  {
   "cell_type": "code",
   "execution_count": 2,
   "metadata": {},
   "outputs": [
    {
     "name": "stdout",
     "output_type": "stream",
     "text": [
      "Enter l = 3\n",
      "Enter b = 4\n",
      "Enter h = 5\n",
      "60\n",
      "12\n",
      "3 4 5\n"
     ]
    }
   ],
   "source": [
    "class Cal:\n",
    "    def __init__(self):\n",
    "        self.l = int(input(\"Enter l = \"))\n",
    "        self.b = int(input(\"Enter b = \"))\n",
    "        self.h = int(input(\"Enter h = \"))\n",
    "    def volume(this):\n",
    "        return this.l*this.b*this.h\n",
    "    def area(self):\n",
    "        return self.l*self.b\n",
    "obj = Cal()\n",
    "\n",
    "print(obj.volume())\n",
    "print(obj.area())\n",
    "print(obj.l,obj.b,obj.h)"
   ]
  },
  {
   "cell_type": "code",
   "execution_count": 3,
   "metadata": {},
   "outputs": [
    {
     "name": "stdout",
     "output_type": "stream",
     "text": [
      "Enter l = 4\n",
      "Enter b = 5\n",
      "Enter h = 6\n",
      "120\n"
     ]
    }
   ],
   "source": [
    "# str method \n",
    "class Cal:\n",
    "    def __init__(self):\n",
    "        self.l = int(input(\"Enter l = \"))\n",
    "        self.b = int(input(\"Enter b = \"))\n",
    "        self.h = int(input(\"Enter h = \"))\n",
    "    def __str__(self):\n",
    "        v = self.l*self.b*self.h\n",
    "        return str(v)\n",
    "    \n",
    "obj = Cal()\n",
    "print(obj)"
   ]
  },
  {
   "cell_type": "code",
   "execution_count": 5,
   "metadata": {},
   "outputs": [
    {
     "name": "stdout",
     "output_type": "stream",
     "text": [
      "Enter name = Ram\n",
      "Enter age = 78\n",
      "Enter address = hskdjhjdsf\n",
      "Ram\n",
      "Ram\n"
     ]
    }
   ],
   "source": [
    "# str method \n",
    "class Cal:\n",
    "    def __init__(self):\n",
    "        self.l = input(\"Enter name = \")\n",
    "        self.b = input(\"Enter age = \")\n",
    "        self.h = input(\"Enter address = \")\n",
    "    def __str__(self):\n",
    "        return self.l\n",
    "    \n",
    "obj = Cal()\n",
    "print(obj)\n",
    "# print(obj.__str__())"
   ]
  },
  {
   "cell_type": "code",
   "execution_count": 6,
   "metadata": {},
   "outputs": [
    {
     "name": "stdout",
     "output_type": "stream",
     "text": [
      "Enter name = Ram\n",
      "Enter age = 56\n",
      "Enter address = Kathmandu\n",
      "{'Name': 'Ram', 'Age': '56', 'Address': 'Kathmandu'}\n"
     ]
    }
   ],
   "source": [
    "# repr method \n",
    "class Cal:\n",
    "    def __init__(self):\n",
    "        self.l = input(\"Enter name = \")\n",
    "        self.b = input(\"Enter age = \")\n",
    "        self.h = input(\"Enter address = \")\n",
    "    def __repr__(self):\n",
    "        return {'Name':self.l,'Age':self.b,'Address':self.h}\n",
    "    \n",
    "obj = Cal()\n",
    "print(obj.__repr__())"
   ]
  },
  {
   "cell_type": "code",
   "execution_count": 7,
   "metadata": {},
   "outputs": [
    {
     "name": "stdout",
     "output_type": "stream",
     "text": [
      "Enter name = hjghj\n",
      "Enter age = 876\n",
      "Enter address = jhhj\n",
      "['hjghj', '876', 'jhhj']\n"
     ]
    }
   ],
   "source": [
    "# repr method \n",
    "class Cal:\n",
    "    def __init__(self):\n",
    "        self.l = input(\"Enter name = \")\n",
    "        self.b = input(\"Enter age = \")\n",
    "        self.h = input(\"Enter address = \")\n",
    "    def __repr__(self):\n",
    "        return [self.l,self.b,self.h]\n",
    "    \n",
    "obj = Cal()\n",
    "print(obj.__repr__())"
   ]
  },
  {
   "cell_type": "code",
   "execution_count": 13,
   "metadata": {},
   "outputs": [
    {
     "name": "stdout",
     "output_type": "stream",
     "text": [
      "2 3\n",
      "-1 2\n",
      "2 7\n",
      "1 5\n",
      "1 5\n",
      "3 12\n",
      "3 12\n",
      "(3,12)\n"
     ]
    }
   ],
   "source": [
    "class Point:\n",
    "    def __init__(self, x = 0, y = 0):\n",
    "        self.x = x\n",
    "        self.y = y\n",
    "        print(x,y)\n",
    "    \n",
    "    def __str__(self):\n",
    "        return f\"({self.x},{self.y})\"\n",
    "    \n",
    "    def __add__(self,other):\n",
    "        x = self.x + other.x\n",
    "        y = self.y + other.y\n",
    "        print(x,y)\n",
    "        return Point(x,y)\n",
    "p1 = Point(2,3)\n",
    "p2 = Point(-1,2)\n",
    "p3 = Point(2,7)\n",
    "print(p1+p2+p3)"
   ]
  },
  {
   "cell_type": "code",
   "execution_count": 15,
   "metadata": {},
   "outputs": [
    {
     "name": "stdout",
     "output_type": "stream",
     "text": [
      "6000\n",
      "9000\n",
      "(total Price = 9000)\n"
     ]
    }
   ],
   "source": [
    "class Point:\n",
    "    def __init__(self, x = 0):\n",
    "        self.x = x\n",
    "        \n",
    "    def __str__(self):\n",
    "        return f\"(total Price = {self.x})\"\n",
    "    \n",
    "    def __add__(self,other):\n",
    "        x = self.x + other.x\n",
    "        print(x)\n",
    "        return Point(x)\n",
    "    \n",
    "p1 = Point(2000)\n",
    "p2 = Point(4000)\n",
    "p3 = Point(3000)\n",
    "print(p1+p2+p3)"
   ]
  },
  {
   "cell_type": "code",
   "execution_count": 18,
   "metadata": {},
   "outputs": [
    {
     "name": "stdout",
     "output_type": "stream",
     "text": [
      "9000\n"
     ]
    }
   ],
   "source": [
    "class Point:\n",
    "    def __init__(self, x,y,z):\n",
    "        self.x = x\n",
    "        self.y = y\n",
    "        self.z = z\n",
    "        \n",
    "    def cal(self):    \n",
    "        print(self.x+self.y+self.z)\n",
    "    \n",
    "p = Point(2000,3000,4000)\n",
    "\n",
    "p.cal()"
   ]
  },
  {
   "cell_type": "code",
   "execution_count": null,
   "metadata": {},
   "outputs": [],
   "source": []
  }
 ],
 "metadata": {
  "kernelspec": {
   "display_name": "Python 3",
   "language": "python",
   "name": "python3"
  },
  "language_info": {
   "codemirror_mode": {
    "name": "ipython",
    "version": 3
   },
   "file_extension": ".py",
   "mimetype": "text/x-python",
   "name": "python",
   "nbconvert_exporter": "python",
   "pygments_lexer": "ipython3",
   "version": "3.7.1"
  }
 },
 "nbformat": 4,
 "nbformat_minor": 2
}
