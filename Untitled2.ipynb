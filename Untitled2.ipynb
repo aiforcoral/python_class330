{
 "cells": [
  {
   "cell_type": "code",
   "execution_count": 1,
   "metadata": {},
   "outputs": [
    {
     "name": "stdout",
     "output_type": "stream",
     "text": [
      "4\n"
     ]
    }
   ],
   "source": [
    "x = lambda a:a**2\n",
    "print(x(2))"
   ]
  },
  {
   "cell_type": "code",
   "execution_count": 2,
   "metadata": {},
   "outputs": [
    {
     "data": {
      "text/plain": [
       "4"
      ]
     },
     "execution_count": 2,
     "metadata": {},
     "output_type": "execute_result"
    }
   ],
   "source": [
    "def cal(x):\n",
    "    return x**2\n",
    "\n",
    "cal(2)"
   ]
  },
  {
   "cell_type": "code",
   "execution_count": 5,
   "metadata": {},
   "outputs": [
    {
     "name": "stdout",
     "output_type": "stream",
     "text": [
      "[3, 123]\n",
      "[2, 4, 10, 22]\n"
     ]
    }
   ],
   "source": [
    "#program to filter out the list which is divisible by 3  \n",
    "Lists=[1,2,3,4,10,123,22]\n",
    "div=list(filter(lambda x:(x%3 == 0),Lists))\n",
    "even=list(filter(lambda x:(x%2 == 0),Lists))\n",
    "\n",
    "print(div)\n",
    "print(even)\n",
    "\n",
    "\n"
   ]
  },
  {
   "cell_type": "code",
   "execution_count": 9,
   "metadata": {},
   "outputs": [
    {
     "name": "stdout",
     "output_type": "stream",
     "text": [
      "['Apple', 'Ant']\n"
     ]
    }
   ],
   "source": [
    "#program to filter out the list which is divisible by 3  \n",
    "Lists=['Apple','Ant','Ball']\n",
    "div=list(filter(lambda x:(x[0] == 'A'),Lists))\n",
    "\n",
    "print(div)"
   ]
  },
  {
   "cell_type": "code",
   "execution_count": null,
   "metadata": {},
   "outputs": [],
   "source": []
  }
 ],
 "metadata": {
  "kernelspec": {
   "display_name": "Python 3",
   "language": "python",
   "name": "python3"
  },
  "language_info": {
   "codemirror_mode": {
    "name": "ipython",
    "version": 3
   },
   "file_extension": ".py",
   "mimetype": "text/x-python",
   "name": "python",
   "nbconvert_exporter": "python",
   "pygments_lexer": "ipython3",
   "version": "3.7.1"
  }
 },
 "nbformat": 4,
 "nbformat_minor": 2
}
